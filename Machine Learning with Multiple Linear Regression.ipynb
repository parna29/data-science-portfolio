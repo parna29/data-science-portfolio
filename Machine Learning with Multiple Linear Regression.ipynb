{
 "cells": [
  {
   "cell_type": "markdown",
   "metadata": {},
   "source": [
    "Multiple Linear Regression uses two or more independent variables to predict the values of the dependent variable.\n",
    "\n",
    "In predicting the price of a home, one factor to consider is the size of the home. The relationship between those two variables, price and size, is important, but there are other variables that factor in to pricing a home: location, air quality, demographics, parking, and more. When making predictions for price, our dependent variable, we will want to use multiple independent variables. To do this, we will use Multiple Linear Regression.\n",
    "\n",
    "StreetEasy is New York City’s leading real estate marketplace — from studios to high-rises, Brooklyn Heights to Harlem. In this lesson, we will be working with a dataset that contains a sample of 5,000 rentals listings in Manhattan, Brooklyn, and Queens, active on StreetEasy in June 2016.\n",
    "\n",
    "Here, we will be working with the borough - Brooklyn.\n",
    "\n",
    "Dataset link: https://github.com/Codecademy/datasets/tree/master/streeteasy"
   ]
  },
  {
   "cell_type": "code",
   "execution_count": 1,
   "metadata": {},
   "outputs": [],
   "source": [
    "import pandas as pd"
   ]
  },
  {
   "cell_type": "markdown",
   "metadata": {},
   "source": [
    "<h3>Data</h3>"
   ]
  },
  {
   "cell_type": "code",
   "execution_count": 2,
   "metadata": {},
   "outputs": [],
   "source": [
    "df = pd.read_csv('brooklyn.csv')"
   ]
  },
  {
   "cell_type": "code",
   "execution_count": 3,
   "metadata": {},
   "outputs": [
    {
     "data": {
      "text/html": [
       "<div>\n",
       "<style scoped>\n",
       "    .dataframe tbody tr th:only-of-type {\n",
       "        vertical-align: middle;\n",
       "    }\n",
       "\n",
       "    .dataframe tbody tr th {\n",
       "        vertical-align: top;\n",
       "    }\n",
       "\n",
       "    .dataframe thead th {\n",
       "        text-align: right;\n",
       "    }\n",
       "</style>\n",
       "<table border=\"1\" class=\"dataframe\">\n",
       "  <thead>\n",
       "    <tr style=\"text-align: right;\">\n",
       "      <th></th>\n",
       "      <th>rental_id</th>\n",
       "      <th>rent</th>\n",
       "      <th>bedrooms</th>\n",
       "      <th>bathrooms</th>\n",
       "      <th>size_sqft</th>\n",
       "      <th>min_to_subway</th>\n",
       "      <th>floor</th>\n",
       "      <th>building_age_yrs</th>\n",
       "      <th>no_fee</th>\n",
       "      <th>has_roofdeck</th>\n",
       "      <th>has_washer_dryer</th>\n",
       "      <th>has_doorman</th>\n",
       "      <th>has_elevator</th>\n",
       "      <th>has_dishwasher</th>\n",
       "      <th>has_patio</th>\n",
       "      <th>has_gym</th>\n",
       "      <th>neighborhood</th>\n",
       "      <th>borough</th>\n",
       "    </tr>\n",
       "  </thead>\n",
       "  <tbody>\n",
       "    <tr>\n",
       "      <th>0</th>\n",
       "      <td>2869</td>\n",
       "      <td>3600</td>\n",
       "      <td>3.0</td>\n",
       "      <td>2</td>\n",
       "      <td>900</td>\n",
       "      <td>4</td>\n",
       "      <td>1.0</td>\n",
       "      <td>15</td>\n",
       "      <td>1</td>\n",
       "      <td>0</td>\n",
       "      <td>0</td>\n",
       "      <td>0</td>\n",
       "      <td>0</td>\n",
       "      <td>0</td>\n",
       "      <td>0</td>\n",
       "      <td>0</td>\n",
       "      <td>Williamsburg</td>\n",
       "      <td>Brooklyn</td>\n",
       "    </tr>\n",
       "    <tr>\n",
       "      <th>1</th>\n",
       "      <td>4318</td>\n",
       "      <td>3900</td>\n",
       "      <td>3.0</td>\n",
       "      <td>2</td>\n",
       "      <td>1000</td>\n",
       "      <td>4</td>\n",
       "      <td>9.0</td>\n",
       "      <td>8</td>\n",
       "      <td>0</td>\n",
       "      <td>0</td>\n",
       "      <td>0</td>\n",
       "      <td>0</td>\n",
       "      <td>1</td>\n",
       "      <td>0</td>\n",
       "      <td>0</td>\n",
       "      <td>0</td>\n",
       "      <td>Greenwood</td>\n",
       "      <td>Brooklyn</td>\n",
       "    </tr>\n",
       "    <tr>\n",
       "      <th>2</th>\n",
       "      <td>6265</td>\n",
       "      <td>2700</td>\n",
       "      <td>2.0</td>\n",
       "      <td>1</td>\n",
       "      <td>900</td>\n",
       "      <td>4</td>\n",
       "      <td>2.0</td>\n",
       "      <td>96</td>\n",
       "      <td>0</td>\n",
       "      <td>0</td>\n",
       "      <td>0</td>\n",
       "      <td>0</td>\n",
       "      <td>0</td>\n",
       "      <td>0</td>\n",
       "      <td>0</td>\n",
       "      <td>0</td>\n",
       "      <td>Gowanus</td>\n",
       "      <td>Brooklyn</td>\n",
       "    </tr>\n",
       "    <tr>\n",
       "      <th>3</th>\n",
       "      <td>24</td>\n",
       "      <td>4900</td>\n",
       "      <td>1.0</td>\n",
       "      <td>1</td>\n",
       "      <td>1216</td>\n",
       "      <td>6</td>\n",
       "      <td>3.0</td>\n",
       "      <td>88</td>\n",
       "      <td>0</td>\n",
       "      <td>0</td>\n",
       "      <td>0</td>\n",
       "      <td>0</td>\n",
       "      <td>0</td>\n",
       "      <td>0</td>\n",
       "      <td>0</td>\n",
       "      <td>0</td>\n",
       "      <td>Brooklyn Heights</td>\n",
       "      <td>Brooklyn</td>\n",
       "    </tr>\n",
       "    <tr>\n",
       "      <th>4</th>\n",
       "      <td>9481</td>\n",
       "      <td>3900</td>\n",
       "      <td>0.0</td>\n",
       "      <td>1</td>\n",
       "      <td>1100</td>\n",
       "      <td>3</td>\n",
       "      <td>4.0</td>\n",
       "      <td>85</td>\n",
       "      <td>1</td>\n",
       "      <td>0</td>\n",
       "      <td>0</td>\n",
       "      <td>0</td>\n",
       "      <td>0</td>\n",
       "      <td>0</td>\n",
       "      <td>0</td>\n",
       "      <td>0</td>\n",
       "      <td>Williamsburg</td>\n",
       "      <td>Brooklyn</td>\n",
       "    </tr>\n",
       "    <tr>\n",
       "      <th>5</th>\n",
       "      <td>849</td>\n",
       "      <td>2750</td>\n",
       "      <td>1.0</td>\n",
       "      <td>1</td>\n",
       "      <td>700</td>\n",
       "      <td>12</td>\n",
       "      <td>3.0</td>\n",
       "      <td>9</td>\n",
       "      <td>1</td>\n",
       "      <td>0</td>\n",
       "      <td>0</td>\n",
       "      <td>0</td>\n",
       "      <td>0</td>\n",
       "      <td>0</td>\n",
       "      <td>0</td>\n",
       "      <td>0</td>\n",
       "      <td>Clinton Hill</td>\n",
       "      <td>Brooklyn</td>\n",
       "    </tr>\n",
       "    <tr>\n",
       "      <th>6</th>\n",
       "      <td>6029</td>\n",
       "      <td>2700</td>\n",
       "      <td>2.0</td>\n",
       "      <td>1</td>\n",
       "      <td>750</td>\n",
       "      <td>7</td>\n",
       "      <td>14.0</td>\n",
       "      <td>96</td>\n",
       "      <td>0</td>\n",
       "      <td>0</td>\n",
       "      <td>0</td>\n",
       "      <td>0</td>\n",
       "      <td>0</td>\n",
       "      <td>0</td>\n",
       "      <td>0</td>\n",
       "      <td>0</td>\n",
       "      <td>Williamsburg</td>\n",
       "      <td>Brooklyn</td>\n",
       "    </tr>\n",
       "    <tr>\n",
       "      <th>7</th>\n",
       "      <td>3686</td>\n",
       "      <td>4905</td>\n",
       "      <td>2.0</td>\n",
       "      <td>2</td>\n",
       "      <td>1114</td>\n",
       "      <td>6</td>\n",
       "      <td>5.0</td>\n",
       "      <td>2</td>\n",
       "      <td>1</td>\n",
       "      <td>0</td>\n",
       "      <td>0</td>\n",
       "      <td>0</td>\n",
       "      <td>0</td>\n",
       "      <td>0</td>\n",
       "      <td>0</td>\n",
       "      <td>0</td>\n",
       "      <td>Williamsburg</td>\n",
       "      <td>Brooklyn</td>\n",
       "    </tr>\n",
       "    <tr>\n",
       "      <th>8</th>\n",
       "      <td>7616</td>\n",
       "      <td>2000</td>\n",
       "      <td>1.0</td>\n",
       "      <td>1</td>\n",
       "      <td>700</td>\n",
       "      <td>4</td>\n",
       "      <td>2.0</td>\n",
       "      <td>85</td>\n",
       "      <td>0</td>\n",
       "      <td>0</td>\n",
       "      <td>0</td>\n",
       "      <td>0</td>\n",
       "      <td>0</td>\n",
       "      <td>0</td>\n",
       "      <td>0</td>\n",
       "      <td>0</td>\n",
       "      <td>Williamsburg</td>\n",
       "      <td>Brooklyn</td>\n",
       "    </tr>\n",
       "    <tr>\n",
       "      <th>9</th>\n",
       "      <td>863</td>\n",
       "      <td>3200</td>\n",
       "      <td>1.0</td>\n",
       "      <td>1</td>\n",
       "      <td>800</td>\n",
       "      <td>5</td>\n",
       "      <td>3.0</td>\n",
       "      <td>27</td>\n",
       "      <td>0</td>\n",
       "      <td>0</td>\n",
       "      <td>0</td>\n",
       "      <td>0</td>\n",
       "      <td>0</td>\n",
       "      <td>0</td>\n",
       "      <td>0</td>\n",
       "      <td>0</td>\n",
       "      <td>Boerum Hill</td>\n",
       "      <td>Brooklyn</td>\n",
       "    </tr>\n",
       "  </tbody>\n",
       "</table>\n",
       "</div>"
      ],
      "text/plain": [
       "   rental_id  rent  bedrooms  bathrooms  size_sqft  min_to_subway  floor  \\\n",
       "0       2869  3600       3.0          2        900              4    1.0   \n",
       "1       4318  3900       3.0          2       1000              4    9.0   \n",
       "2       6265  2700       2.0          1        900              4    2.0   \n",
       "3         24  4900       1.0          1       1216              6    3.0   \n",
       "4       9481  3900       0.0          1       1100              3    4.0   \n",
       "5        849  2750       1.0          1        700             12    3.0   \n",
       "6       6029  2700       2.0          1        750              7   14.0   \n",
       "7       3686  4905       2.0          2       1114              6    5.0   \n",
       "8       7616  2000       1.0          1        700              4    2.0   \n",
       "9        863  3200       1.0          1        800              5    3.0   \n",
       "\n",
       "   building_age_yrs  no_fee  has_roofdeck  has_washer_dryer  has_doorman  \\\n",
       "0                15       1             0                 0            0   \n",
       "1                 8       0             0                 0            0   \n",
       "2                96       0             0                 0            0   \n",
       "3                88       0             0                 0            0   \n",
       "4                85       1             0                 0            0   \n",
       "5                 9       1             0                 0            0   \n",
       "6                96       0             0                 0            0   \n",
       "7                 2       1             0                 0            0   \n",
       "8                85       0             0                 0            0   \n",
       "9                27       0             0                 0            0   \n",
       "\n",
       "   has_elevator  has_dishwasher  has_patio  has_gym      neighborhood  \\\n",
       "0             0               0          0        0      Williamsburg   \n",
       "1             1               0          0        0         Greenwood   \n",
       "2             0               0          0        0           Gowanus   \n",
       "3             0               0          0        0  Brooklyn Heights   \n",
       "4             0               0          0        0      Williamsburg   \n",
       "5             0               0          0        0      Clinton Hill   \n",
       "6             0               0          0        0      Williamsburg   \n",
       "7             0               0          0        0      Williamsburg   \n",
       "8             0               0          0        0      Williamsburg   \n",
       "9             0               0          0        0       Boerum Hill   \n",
       "\n",
       "    borough  \n",
       "0  Brooklyn  \n",
       "1  Brooklyn  \n",
       "2  Brooklyn  \n",
       "3  Brooklyn  \n",
       "4  Brooklyn  \n",
       "5  Brooklyn  \n",
       "6  Brooklyn  \n",
       "7  Brooklyn  \n",
       "8  Brooklyn  \n",
       "9  Brooklyn  "
      ]
     },
     "execution_count": 3,
     "metadata": {},
     "output_type": "execute_result"
    }
   ],
   "source": [
    "df.head(10)"
   ]
  },
  {
   "cell_type": "code",
   "execution_count": 4,
   "metadata": {},
   "outputs": [
    {
     "data": {
      "text/html": [
       "<div>\n",
       "<style scoped>\n",
       "    .dataframe tbody tr th:only-of-type {\n",
       "        vertical-align: middle;\n",
       "    }\n",
       "\n",
       "    .dataframe tbody tr th {\n",
       "        vertical-align: top;\n",
       "    }\n",
       "\n",
       "    .dataframe thead th {\n",
       "        text-align: right;\n",
       "    }\n",
       "</style>\n",
       "<table border=\"1\" class=\"dataframe\">\n",
       "  <thead>\n",
       "    <tr style=\"text-align: right;\">\n",
       "      <th></th>\n",
       "      <th>rental_id</th>\n",
       "      <th>rent</th>\n",
       "      <th>bedrooms</th>\n",
       "      <th>bathrooms</th>\n",
       "      <th>size_sqft</th>\n",
       "      <th>min_to_subway</th>\n",
       "      <th>floor</th>\n",
       "      <th>building_age_yrs</th>\n",
       "      <th>no_fee</th>\n",
       "      <th>has_roofdeck</th>\n",
       "      <th>has_washer_dryer</th>\n",
       "      <th>has_doorman</th>\n",
       "      <th>has_elevator</th>\n",
       "      <th>has_dishwasher</th>\n",
       "      <th>has_patio</th>\n",
       "      <th>has_gym</th>\n",
       "    </tr>\n",
       "  </thead>\n",
       "  <tbody>\n",
       "    <tr>\n",
       "      <th>count</th>\n",
       "      <td>1013.000000</td>\n",
       "      <td>1013.000000</td>\n",
       "      <td>1013.000000</td>\n",
       "      <td>1013.000000</td>\n",
       "      <td>1013.000000</td>\n",
       "      <td>1013.000000</td>\n",
       "      <td>1013.000000</td>\n",
       "      <td>1013.000000</td>\n",
       "      <td>1013.000000</td>\n",
       "      <td>1013.00000</td>\n",
       "      <td>1013.000000</td>\n",
       "      <td>1013.000000</td>\n",
       "      <td>1013.000000</td>\n",
       "      <td>1013.000000</td>\n",
       "      <td>1013.000000</td>\n",
       "      <td>1013.000000</td>\n",
       "    </tr>\n",
       "    <tr>\n",
       "      <th>mean</th>\n",
       "      <td>5948.951629</td>\n",
       "      <td>3327.403751</td>\n",
       "      <td>1.578973</td>\n",
       "      <td>1.234946</td>\n",
       "      <td>899.414610</td>\n",
       "      <td>4.721619</td>\n",
       "      <td>6.206318</td>\n",
       "      <td>55.730503</td>\n",
       "      <td>0.515301</td>\n",
       "      <td>0.06614</td>\n",
       "      <td>0.076012</td>\n",
       "      <td>0.103653</td>\n",
       "      <td>0.120434</td>\n",
       "      <td>0.089832</td>\n",
       "      <td>0.021718</td>\n",
       "      <td>0.076012</td>\n",
       "    </tr>\n",
       "    <tr>\n",
       "      <th>std</th>\n",
       "      <td>3146.852489</td>\n",
       "      <td>1602.395143</td>\n",
       "      <td>0.973555</td>\n",
       "      <td>0.474740</td>\n",
       "      <td>355.094481</td>\n",
       "      <td>3.285117</td>\n",
       "      <td>9.051340</td>\n",
       "      <td>44.330543</td>\n",
       "      <td>0.500013</td>\n",
       "      <td>0.24865</td>\n",
       "      <td>0.265148</td>\n",
       "      <td>0.304960</td>\n",
       "      <td>0.325630</td>\n",
       "      <td>0.286082</td>\n",
       "      <td>0.145832</td>\n",
       "      <td>0.265148</td>\n",
       "    </tr>\n",
       "    <tr>\n",
       "      <th>min</th>\n",
       "      <td>24.000000</td>\n",
       "      <td>1275.000000</td>\n",
       "      <td>0.000000</td>\n",
       "      <td>0.000000</td>\n",
       "      <td>250.000000</td>\n",
       "      <td>0.000000</td>\n",
       "      <td>1.000000</td>\n",
       "      <td>0.000000</td>\n",
       "      <td>0.000000</td>\n",
       "      <td>0.00000</td>\n",
       "      <td>0.000000</td>\n",
       "      <td>0.000000</td>\n",
       "      <td>0.000000</td>\n",
       "      <td>0.000000</td>\n",
       "      <td>0.000000</td>\n",
       "      <td>0.000000</td>\n",
       "    </tr>\n",
       "    <tr>\n",
       "      <th>25%</th>\n",
       "      <td>3375.000000</td>\n",
       "      <td>2400.000000</td>\n",
       "      <td>1.000000</td>\n",
       "      <td>1.000000</td>\n",
       "      <td>680.000000</td>\n",
       "      <td>2.000000</td>\n",
       "      <td>2.000000</td>\n",
       "      <td>7.000000</td>\n",
       "      <td>0.000000</td>\n",
       "      <td>0.00000</td>\n",
       "      <td>0.000000</td>\n",
       "      <td>0.000000</td>\n",
       "      <td>0.000000</td>\n",
       "      <td>0.000000</td>\n",
       "      <td>0.000000</td>\n",
       "      <td>0.000000</td>\n",
       "    </tr>\n",
       "    <tr>\n",
       "      <th>50%</th>\n",
       "      <td>6144.000000</td>\n",
       "      <td>3000.000000</td>\n",
       "      <td>2.000000</td>\n",
       "      <td>1.000000</td>\n",
       "      <td>845.000000</td>\n",
       "      <td>4.000000</td>\n",
       "      <td>3.000000</td>\n",
       "      <td>77.000000</td>\n",
       "      <td>1.000000</td>\n",
       "      <td>0.00000</td>\n",
       "      <td>0.000000</td>\n",
       "      <td>0.000000</td>\n",
       "      <td>0.000000</td>\n",
       "      <td>0.000000</td>\n",
       "      <td>0.000000</td>\n",
       "      <td>0.000000</td>\n",
       "    </tr>\n",
       "    <tr>\n",
       "      <th>75%</th>\n",
       "      <td>8676.000000</td>\n",
       "      <td>3850.000000</td>\n",
       "      <td>2.000000</td>\n",
       "      <td>1.000000</td>\n",
       "      <td>1000.000000</td>\n",
       "      <td>7.000000</td>\n",
       "      <td>6.000000</td>\n",
       "      <td>96.000000</td>\n",
       "      <td>1.000000</td>\n",
       "      <td>0.00000</td>\n",
       "      <td>0.000000</td>\n",
       "      <td>0.000000</td>\n",
       "      <td>0.000000</td>\n",
       "      <td>0.000000</td>\n",
       "      <td>0.000000</td>\n",
       "      <td>0.000000</td>\n",
       "    </tr>\n",
       "    <tr>\n",
       "      <th>max</th>\n",
       "      <td>11343.000000</td>\n",
       "      <td>18000.000000</td>\n",
       "      <td>5.000000</td>\n",
       "      <td>4.000000</td>\n",
       "      <td>3243.000000</td>\n",
       "      <td>43.000000</td>\n",
       "      <td>68.000000</td>\n",
       "      <td>174.000000</td>\n",
       "      <td>1.000000</td>\n",
       "      <td>1.00000</td>\n",
       "      <td>1.000000</td>\n",
       "      <td>1.000000</td>\n",
       "      <td>1.000000</td>\n",
       "      <td>1.000000</td>\n",
       "      <td>1.000000</td>\n",
       "      <td>1.000000</td>\n",
       "    </tr>\n",
       "  </tbody>\n",
       "</table>\n",
       "</div>"
      ],
      "text/plain": [
       "          rental_id          rent     bedrooms    bathrooms    size_sqft  \\\n",
       "count   1013.000000   1013.000000  1013.000000  1013.000000  1013.000000   \n",
       "mean    5948.951629   3327.403751     1.578973     1.234946   899.414610   \n",
       "std     3146.852489   1602.395143     0.973555     0.474740   355.094481   \n",
       "min       24.000000   1275.000000     0.000000     0.000000   250.000000   \n",
       "25%     3375.000000   2400.000000     1.000000     1.000000   680.000000   \n",
       "50%     6144.000000   3000.000000     2.000000     1.000000   845.000000   \n",
       "75%     8676.000000   3850.000000     2.000000     1.000000  1000.000000   \n",
       "max    11343.000000  18000.000000     5.000000     4.000000  3243.000000   \n",
       "\n",
       "       min_to_subway        floor  building_age_yrs       no_fee  \\\n",
       "count    1013.000000  1013.000000       1013.000000  1013.000000   \n",
       "mean        4.721619     6.206318         55.730503     0.515301   \n",
       "std         3.285117     9.051340         44.330543     0.500013   \n",
       "min         0.000000     1.000000          0.000000     0.000000   \n",
       "25%         2.000000     2.000000          7.000000     0.000000   \n",
       "50%         4.000000     3.000000         77.000000     1.000000   \n",
       "75%         7.000000     6.000000         96.000000     1.000000   \n",
       "max        43.000000    68.000000        174.000000     1.000000   \n",
       "\n",
       "       has_roofdeck  has_washer_dryer  has_doorman  has_elevator  \\\n",
       "count    1013.00000       1013.000000  1013.000000   1013.000000   \n",
       "mean        0.06614          0.076012     0.103653      0.120434   \n",
       "std         0.24865          0.265148     0.304960      0.325630   \n",
       "min         0.00000          0.000000     0.000000      0.000000   \n",
       "25%         0.00000          0.000000     0.000000      0.000000   \n",
       "50%         0.00000          0.000000     0.000000      0.000000   \n",
       "75%         0.00000          0.000000     0.000000      0.000000   \n",
       "max         1.00000          1.000000     1.000000      1.000000   \n",
       "\n",
       "       has_dishwasher    has_patio      has_gym  \n",
       "count     1013.000000  1013.000000  1013.000000  \n",
       "mean         0.089832     0.021718     0.076012  \n",
       "std          0.286082     0.145832     0.265148  \n",
       "min          0.000000     0.000000     0.000000  \n",
       "25%          0.000000     0.000000     0.000000  \n",
       "50%          0.000000     0.000000     0.000000  \n",
       "75%          0.000000     0.000000     0.000000  \n",
       "max          1.000000     1.000000     1.000000  "
      ]
     },
     "execution_count": 4,
     "metadata": {},
     "output_type": "execute_result"
    }
   ],
   "source": [
    "df.describe()"
   ]
  },
  {
   "cell_type": "markdown",
   "metadata": {},
   "source": [
    "<h3>Selecting and Splitting the Data</h3>"
   ]
  },
  {
   "cell_type": "code",
   "execution_count": 5,
   "metadata": {},
   "outputs": [],
   "source": [
    "from sklearn.model_selection import train_test_split"
   ]
  },
  {
   "cell_type": "code",
   "execution_count": 6,
   "metadata": {},
   "outputs": [],
   "source": [
    "x = df[['bedrooms', 'bathrooms', 'size_sqft', 'min_to_subway', 'floor', 'building_age_yrs', 'no_fee', 'has_roofdeck', 'has_washer_dryer', 'has_doorman', 'has_elevator', 'has_dishwasher','has_patio','has_gym']]"
   ]
  },
  {
   "cell_type": "code",
   "execution_count": 7,
   "metadata": {},
   "outputs": [],
   "source": [
    "y = df[['rent']]"
   ]
  },
  {
   "cell_type": "code",
   "execution_count": 8,
   "metadata": {},
   "outputs": [],
   "source": [
    "x_train, x_test, y_train, y_test = train_test_split(x, y, train_size = 0.8, random_state = 6)"
   ]
  },
  {
   "cell_type": "code",
   "execution_count": 9,
   "metadata": {},
   "outputs": [
    {
     "data": {
      "text/plain": [
       "((810, 14), (810, 1))"
      ]
     },
     "execution_count": 9,
     "metadata": {},
     "output_type": "execute_result"
    }
   ],
   "source": [
    "x_train.shape, y_train.shape"
   ]
  },
  {
   "cell_type": "code",
   "execution_count": 10,
   "metadata": {},
   "outputs": [
    {
     "data": {
      "text/plain": [
       "((203, 14), (203, 1))"
      ]
     },
     "execution_count": 10,
     "metadata": {},
     "output_type": "execute_result"
    }
   ],
   "source": [
    "x_test.shape, y_test.shape"
   ]
  },
  {
   "cell_type": "markdown",
   "metadata": {},
   "source": [
    "We have 14 features that we’re looking for for each apartment, and 1 label we’re looking for for each apartment."
   ]
  },
  {
   "cell_type": "markdown",
   "metadata": {},
   "source": [
    "<h3>Building the Model</h3>"
   ]
  },
  {
   "cell_type": "code",
   "execution_count": 11,
   "metadata": {},
   "outputs": [],
   "source": [
    "from sklearn.linear_model import LinearRegression"
   ]
  },
  {
   "cell_type": "code",
   "execution_count": 12,
   "metadata": {},
   "outputs": [],
   "source": [
    "mlr = LinearRegression()"
   ]
  },
  {
   "cell_type": "code",
   "execution_count": 13,
   "metadata": {},
   "outputs": [
    {
     "data": {
      "text/plain": [
       "LinearRegression(copy_X=True, fit_intercept=True, n_jobs=None, normalize=False)"
      ]
     },
     "execution_count": 13,
     "metadata": {},
     "output_type": "execute_result"
    }
   ],
   "source": [
    "mlr.fit(x_train, y_train)"
   ]
  },
  {
   "cell_type": "code",
   "execution_count": 14,
   "metadata": {},
   "outputs": [],
   "source": [
    "y_predict = mlr.predict(x_test)"
   ]
  },
  {
   "cell_type": "markdown",
   "metadata": {},
   "source": [
    "<h3>Testing the Model</h3>"
   ]
  },
  {
   "cell_type": "markdown",
   "metadata": {},
   "source": [
    "Testing it on: Sonny's apartment (https://streeteasy.com/rental/2177438) to see if the rent paid is overpaid or underpaid."
   ]
  },
  {
   "cell_type": "code",
   "execution_count": 15,
   "metadata": {},
   "outputs": [],
   "source": [
    "sonny = [[1, 1, 620, 16, 1, 100, 1, 0, 1, 0, 0, 1, 1, 0]]"
   ]
  },
  {
   "cell_type": "code",
   "execution_count": 16,
   "metadata": {},
   "outputs": [
    {
     "name": "stdout",
     "output_type": "stream",
     "text": [
      "Predicted rent: $2051.74\n"
     ]
    }
   ],
   "source": [
    "predict = mlr.predict(sonny)\n",
    "print(\"Predicted rent: $%.2f\" % predict)"
   ]
  },
  {
   "cell_type": "markdown",
   "metadata": {},
   "source": [
    "And Sonny is only paying $2,000. "
   ]
  },
  {
   "cell_type": "markdown",
   "metadata": {},
   "source": [
    "<h3>Visualizing Results with Matplotlib</h3>"
   ]
  },
  {
   "cell_type": "code",
   "execution_count": 17,
   "metadata": {},
   "outputs": [
    {
     "name": "stderr",
     "output_type": "stream",
     "text": [
      "\n",
      "Bad key \"text.kerning_factor\" on line 4 in\n",
      "C:\\Users\\Parnashri\\Anaconda_3\\lib\\site-packages\\matplotlib\\mpl-data\\stylelib\\_classic_test_patch.mplstyle.\n",
      "You probably need to get an updated matplotlibrc file from\n",
      "https://github.com/matplotlib/matplotlib/blob/v3.1.3/matplotlibrc.template\n",
      "or from the matplotlib source distribution\n"
     ]
    }
   ],
   "source": [
    "import matplotlib.pyplot as plt"
   ]
  },
  {
   "cell_type": "code",
   "execution_count": 18,
   "metadata": {},
   "outputs": [
    {
     "data": {
      "text/plain": [
       "Text(0, 0.5, 'predicted rent prices')"
      ]
     },
     "execution_count": 18,
     "metadata": {},
     "output_type": "execute_result"
    },
    {
     "data": {
      "image/png": "[encoded data removed]",
      "text/plain": [
       "<Figure size 432x288 with 1 Axes>"
      ]
     },
     "metadata": {
      "needs_background": "light"
     },
     "output_type": "display_data"
    }
   ],
   "source": [
    "plt.scatter(y_test, y_predict)\n",
    "plt.xlabel('actual rent price')\n",
    "plt.ylabel('predicted rent prices')"
   ]
  },
  {
   "cell_type": "markdown",
   "metadata": {},
   "source": [
    "<h3>Printing Coefficients</h3>"
   ]
  },
  {
   "cell_type": "markdown",
   "metadata": {},
   "source": [
    "Coefficients are most helpful in determining which independent variable carries more weight. For example, a coefficient of -1.345 will impact the rent more than a coefficient of 0.238, with the former impacting prices negatively and latter positively."
   ]
  },
  {
   "cell_type": "code",
   "execution_count": 19,
   "metadata": {},
   "outputs": [
    {
     "data": {
      "text/plain": [
       "[('bedrooms', -196.67177624971518),\n",
       " ('bathrooms', 785.4007337748885),\n",
       " ('size_sqft', 2.945791480152565),\n",
       " ('min_to_subway', -37.786906833183345),\n",
       " ('floor', 13.017848924008382),\n",
       " ('building_age_yrs', -4.100924230062982),\n",
       " ('no_fee', 123.08950599605471),\n",
       " ('has_roofdeck', 99.61520874490097),\n",
       " ('has_washer_dryer', -14.556290618253694),\n",
       " ('has_doorman', -330.2681647061601),\n",
       " ('has_elevator', 85.07118066895364),\n",
       " ('has_dishwasher', -11.786669272158191),\n",
       " ('has_patio', 260.68383056454337),\n",
       " ('has_gym', 396.2479384241674)]"
      ]
     },
     "execution_count": 19,
     "metadata": {},
     "output_type": "execute_result"
    }
   ],
   "source": [
    "list(zip(['bedrooms', 'bathrooms', 'size_sqft', 'min_to_subway', 'floor', 'building_age_yrs', 'no_fee', 'has_roofdeck', 'has_washer_dryer', 'has_doorman', 'has_elevator', 'has_dishwasher','has_patio','has_gym'],mlr.coef_[0]))"
   ]
  },
  {
   "cell_type": "markdown",
   "metadata": {},
   "source": [
    "<h3>Correlations</h3>\n",
    "\n",
    "In regression, the independent variables will either have a positive linear relationship to the dependent variable, a negative linear relationship, or no relationship. A negative linear relationship means that as X values increase, Y values will decrease. Similarly, a positive linear relationship means that as X values increase, Y values will also increase."
   ]
  },
  {
   "cell_type": "code",
   "execution_count": 20,
   "metadata": {
    "scrolled": true
   },
   "outputs": [
    {
     "data": {
      "text/plain": [
       "<matplotlib.collections.PathCollection at 0x1ef64319408>"
      ]
     },
     "execution_count": 20,
     "metadata": {},
     "output_type": "execute_result"
    },
    {
     "data": {
      "image/png": "[encoded data removed]",
      "text/plain": [
       "<Figure size 1080x360 with 14 Axes>"
      ]
     },
     "metadata": {
      "needs_background": "light"
     },
     "output_type": "display_data"
    }
   ],
   "source": [
    "plt.figure(figsize=(15,5))    \n",
    "plt.subplot(2,7,1)\n",
    "plt.scatter(df[['bedrooms']], df[['rent']], alpha=0.4)\n",
    "plt.subplot(2,7,2)\n",
    "plt.scatter(df[['bathrooms']], df[['rent']], alpha=0.4)\n",
    "plt.subplot(2,7,3)\n",
    "plt.scatter(df[['size_sqft']], df[['rent']], alpha=0.4)\n",
    "plt.subplot(2,7,4)\n",
    "plt.scatter(df[['min_to_subway']], df[['rent']], alpha=0.4)\n",
    "plt.subplot(2,7,5)\n",
    "plt.scatter(df[['floor']], df[['rent']], alpha=0.4)\n",
    "plt.subplot(2,7,6)\n",
    "plt.scatter(df[['building_age_yrs']], df[['rent']], alpha=0.4)\n",
    "plt.subplot(2,7,7)\n",
    "plt.scatter(df[['no_fee']], df[['rent']], alpha=0.4)\n",
    "plt.subplot(2,7,8)\n",
    "plt.scatter(df[['has_roofdeck']], df[['rent']], alpha=0.4)\n",
    "plt.subplot(2,7,9)\n",
    "plt.scatter(df[['has_washer_dryer']], df[['rent']], alpha=0.4)\n",
    "plt.subplot(2,7,10)\n",
    "plt.scatter(df[['has_doorman']], df[['rent']], alpha=0.4)\n",
    "plt.subplot(2,7,11)\n",
    "plt.scatter(df[['has_elevator']], df[['rent']], alpha=0.4)\n",
    "plt.subplot(2,7,12)\n",
    "plt.scatter(df[['has_dishwasher']], df[['rent']], alpha=0.4)\n",
    "plt.subplot(2,7,13)\n",
    "plt.scatter(df[['has_patio']], df[['rent']], alpha=0.4)\n",
    "plt.subplot(2,7,14)\n",
    "plt.scatter(df[['has_gym']], df[['rent']], alpha=0.4)"
   ]
  },
  {
   "cell_type": "markdown",
   "metadata": {},
   "source": [
    "<h3>Evaluating Accuracy</h3>"
   ]
  },
  {
   "cell_type": "code",
   "execution_count": 21,
   "metadata": {},
   "outputs": [
    {
     "data": {
      "text/plain": [
       "0.6132214537979526"
      ]
     },
     "execution_count": 21,
     "metadata": {},
     "output_type": "execute_result"
    }
   ],
   "source": [
    "mlr.score(x_train, y_train)"
   ]
  },
  {
   "cell_type": "code",
   "execution_count": 22,
   "metadata": {},
   "outputs": [
    {
     "data": {
      "text/plain": [
       "0.5843499238725711"
      ]
     },
     "execution_count": 22,
     "metadata": {},
     "output_type": "execute_result"
    }
   ],
   "source": [
    "mlr.score(x_test, y_test)"
   ]
  },
  {
   "cell_type": "markdown",
   "metadata": {},
   "source": [
    "This model can be further improved by removing features and checking for accuracy."
   ]
  },
  {
   "cell_type": "code",
   "execution_count": null,
   "metadata": {},
   "outputs": [],
   "source": []
  }
 ],
 "metadata": {
  "kernelspec": {
   "display_name": "Python 3",
   "language": "python",
   "name": "python3"
  },
  "language_info": {
   "codemirror_mode": {
    "name": "ipython",
    "version": 3
   },
   "file_extension": ".py",
   "mimetype": "text/x-python",
   "name": "python",
   "nbconvert_exporter": "python",
   "pygments_lexer": "ipython3",
   "version": "3.7.4"
  }
 },
 "nbformat": 4,
 "nbformat_minor": 4
}
