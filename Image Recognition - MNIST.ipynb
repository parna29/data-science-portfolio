{
  "nbformat": 4,
  "nbformat_minor": 0,
  "metadata": {
    "colab": {
      "name": "Untitled0.ipynb",
      "provenance": [],
      "collapsed_sections": []
    },
    "kernelspec": {
      "name": "python3",
      "display_name": "Python 3"
    },
    "accelerator": "GPU"
  },
  "cells": [
    {
      "cell_type": "code",
      "metadata": {
        "id": "PXyrZnYb9bPi",
        "colab_type": "code",
        "colab": {
          "base_uri": "https://localhost:8080/",
          "height": 101
        },
        "outputId": "39dfe559-a40a-4144-d63d-d9c5e96ffab2"
      },
      "source": [
        "!pip3 install torch torchvision"
      ],
      "execution_count": 1,
      "outputs": [
        {
          "output_type": "stream",
          "text": [
            "Requirement already satisfied: torch in /usr/local/lib/python3.6/dist-packages (1.5.1+cu101)\n",
            "Requirement already satisfied: torchvision in /usr/local/lib/python3.6/dist-packages (0.6.1+cu101)\n",
            "Requirement already satisfied: future in /usr/local/lib/python3.6/dist-packages (from torch) (0.16.0)\n",
            "Requirement already satisfied: numpy in /usr/local/lib/python3.6/dist-packages (from torch) (1.18.5)\n",
            "Requirement already satisfied: pillow>=4.1.1 in /usr/local/lib/python3.6/dist-packages (from torchvision) (7.0.0)\n"
          ],
          "name": "stdout"
        }
      ]
    },
    {
      "cell_type": "code",
      "metadata": {
        "id": "e5cGO2BK9fuw",
        "colab_type": "code",
        "colab": {}
      },
      "source": [
        "import torch\n",
        "from torchvision import datasets, transforms \n",
        "import numpy as np\n",
        "import matplotlib.pyplot as plt\n",
        "\n",
        "from torch import nn\n",
        "import torch.nn.functional as F"
      ],
      "execution_count": 2,
      "outputs": []
    },
    {
      "cell_type": "markdown",
      "metadata": {
        "id": "gfr2rsPY9ozB",
        "colab_type": "text"
      },
      "source": [
        "<h3>Downloading the MNIST dataset and Creating Batches</h3>"
      ]
    },
    {
      "cell_type": "code",
      "metadata": {
        "id": "QTRlhTvc9snm",
        "colab_type": "code",
        "colab": {}
      },
      "source": [
        "transform = transforms.Compose([transforms.Resize((28,28)), transforms.ToTensor(), transforms.Normalize((0.5,),(0.5,))]) \n",
        "training_dataset = datasets.MNIST(root='./data', train=True, download=True, transform=transform) \n",
        "\n",
        "validation_dataset = datasets.MNIST(root='./data', train=False, download=True, transform=transform)                                                                                              \n",
        "  \n",
        "training_loader = torch.utils.data.DataLoader(dataset=training_dataset, batch_size=100, shuffle=True) \n",
        "\n",
        "validation_loader = torch.utils.data.DataLoader(dataset=validation_dataset, batch_size=100, shuffle=False) "
      ],
      "execution_count": 3,
      "outputs": []
    },
    {
      "cell_type": "markdown",
      "metadata": {
        "id": "Zf7RApxU9w74",
        "colab_type": "text"
      },
      "source": [
        "Creating a function for plotting downloaded MNIST images."
      ]
    },
    {
      "cell_type": "code",
      "metadata": {
        "id": "Gx4rQBhU90Fd",
        "colab_type": "code",
        "colab": {}
      },
      "source": [
        "def im_convert(tensor):  #for plotting the downloaded MNIST images we convert it to numpy. function takes tensor as input\n",
        "  image = tensor.clone().detach().numpy() \n",
        "\n",
        "  image = image.transpose(1, 2, 0) # swapping axis(0,1,2)->axis(1,2,0)\n",
        "  #print(image.shape)\n",
        "  image = image*np.array((0.5, 0.5, 0.5)) + np.array((0.5, 0.5, 0.5))\n",
        "  image = image.clip(0,1) #we converted range -1 to 1. so while denormalizing we want it back to 0-1\n",
        "  return image"
      ],
      "execution_count": 4,
      "outputs": []
    },
    {
      "cell_type": "code",
      "metadata": {
        "id": "AVCqWPpk92Bk",
        "colab_type": "code",
        "colab": {
          "base_uri": "https://localhost:8080/",
          "height": 268
        },
        "outputId": "ec773196-a12f-4f6e-95da-4cc38b22dc2c"
      },
      "source": [
        "dataiter = iter(training_loader) #wrapping train_loader with iter.creates an object that allows us to go through the iterable(training_loader) 1 data at a time\n",
        "images, labels = dataiter.next() #accessing each element. wraps 1st batch of training data\n",
        "fig = plt.figure(figsize = (25, 4))\n",
        "\n",
        "for i in np.arange(20):\n",
        "\n",
        "  ax = fig.add_subplot(2, 10, i+1, xticks=[], yticks=[])\n",
        "  plt.imshow(im_convert(images[i])) \n",
        "  ax.set_title([labels[i].item()])"
      ],
      "execution_count": 5,
      "outputs": [
        {
          "output_type": "display_data",
          "data": {
            "image/png": "[encoded data removed]",
            "text/plain": [
              "<Figure size 1800x288 with 20 Axes>"
            ]
          },
          "metadata": {
            "tags": []
          }
        }
      ]
    },
    {
      "cell_type": "markdown",
      "metadata": {
        "id": "mD5VhibA959H",
        "colab_type": "text"
      },
      "source": [
        "<h3>Building the neural network</h3>"
      ]
    },
    {
      "cell_type": "code",
      "metadata": {
        "id": "zQ98E0xL93zU",
        "colab_type": "code",
        "colab": {}
      },
      "source": [
        "class Classifier(nn.Module):\n",
        "  def __init__(self, D_in, H1, H2, D_out):\n",
        "    super().__init__()\n",
        "    self.linear1 = nn.Linear(D_in, H1)\n",
        "    self.linear2 = nn.Linear(H1, H2)\n",
        "    self.linear3 = nn.Linear(H2, D_out)\n",
        "\n",
        "  def forward(self, x):\n",
        "    x = F.relu(self.linear1(x)) \n",
        "    x = F.relu(self.linear2(x))\n",
        "    x = self.linear3(x) \n",
        "    return x  "
      ],
      "execution_count": 6,
      "outputs": []
    },
    {
      "cell_type": "code",
      "metadata": {
        "id": "MODgphHI99vo",
        "colab_type": "code",
        "colab": {
          "base_uri": "https://localhost:8080/",
          "height": 101
        },
        "outputId": "961fcb1b-42fe-493d-f395-03f8616acbf7"
      },
      "source": [
        "model = Classifier(784, 125, 65, 10)\n",
        "model"
      ],
      "execution_count": 7,
      "outputs": [
        {
          "output_type": "execute_result",
          "data": {
            "text/plain": [
              "Classifier(\n",
              "  (linear1): Linear(in_features=784, out_features=125, bias=True)\n",
              "  (linear2): Linear(in_features=125, out_features=65, bias=True)\n",
              "  (linear3): Linear(in_features=65, out_features=10, bias=True)\n",
              ")"
            ]
          },
          "metadata": {
            "tags": []
          },
          "execution_count": 7
        }
      ]
    },
    {
      "cell_type": "markdown",
      "metadata": {
        "id": "cf6DFBKD-Bht",
        "colab_type": "text"
      },
      "source": [
        "<h3>Setting the Loss Function and the optimizer for our model</h3>"
      ]
    },
    {
      "cell_type": "code",
      "metadata": {
        "id": "DIQBzsaa9_o4",
        "colab_type": "code",
        "colab": {}
      },
      "source": [
        "criterion = nn.CrossEntropyLoss()\n",
        "optimizer = torch.optim.Adam(model.parameters(), lr = 0.001 )"
      ],
      "execution_count": 8,
      "outputs": []
    },
    {
      "cell_type": "code",
      "metadata": {
        "id": "HpJQQi5W-Fks",
        "colab_type": "code",
        "colab": {
          "base_uri": "https://localhost:8080/",
          "height": 773
        },
        "outputId": "b0e13a3d-066d-4d72-92a2-dd54ee88de19"
      },
      "source": [
        "epochs = 15\n",
        "\n",
        "running_loss_history = [] #for analyzing loss after every epoch with plot\n",
        "running_corrects_history = [] #for accuracy at every epoch \n",
        "\n",
        "val_running_loss_history = [] \n",
        "val_running_corrects_history = []\n",
        "\n",
        "for e in range(epochs):\n",
        "\n",
        "  running_loss = 0.0 #to keep track of loss at every epoch, b4 every epoch iteration, set var.for loss computed at every single batch, we must add all of them up to compute final loss at every epoch\n",
        "  running_corrects = 0.0 #we want to compare predictions made by model for each training image to actual labels to see how many correct obtained within epoch\n",
        "\n",
        "  val_running_loss = 0.0\n",
        "  val_running_corrects = 0.0 \n",
        "\n",
        "  for inputs, labels in training_loader: #while iterating through every batch(100 images and labels), we want to plot loss \n",
        "    \n",
        "    inputs = inputs.view(inputs.shape[0],-1) \n",
        "     #1,28,28 to 1,784. are multiplied by weights when connected to hidden layer, so convert to 1D (single row of 784 pixels)\n",
        "    outputs = model(inputs) \n",
        "    # calling our forward function which gives raw output\n",
        "    # outputs contains bunch of score values. class which contains highest score by passing into softmax function will have highest prob.\n",
        "\n",
        "    loss = criterion(outputs, labels)\n",
        "    optimizer.zero_grad()\n",
        "    loss.backward()\n",
        "    optimizer.step()\n",
        "\n",
        "    #in outputs=model(inputs) each image gives bunch of scores. we want max score\n",
        "    \n",
        "    _, preds = torch.max(outputs, 1) #a tuple of images returned \n",
        "    running_corrects += torch.sum(preds == labels.data) #gives sum of all right predictions\n",
        "\n",
        "    running_loss += loss.item() \n",
        "    #then append this accumulated loss for entire epoch into our losses list\n",
        "    \n",
        "  else:  #after iterating through the for loop through all batches, we want to print the accumulated loss for all batches\n",
        "\n",
        "    with torch.no_grad(): #to save memory. sets all reqd grad flags to be False, invokes this block of code as a pair\n",
        "\n",
        "      for val_inputs, val_labels in validation_loader:\n",
        "        val_inputs = val_inputs.view(inputs.shape[0],-1) \n",
        "        val_outputs = model(val_inputs) \n",
        "        val_loss = criterion(val_outputs, val_labels) \n",
        "      #since we arent training nn, no need to call optimizer.zero_grad(), loss.backward(), optimizer.step()\n",
        "\n",
        "        _, val_preds = torch.max(val_outputs, 1)\n",
        "        val_running_corrects += torch.sum(val_preds == val_labels.data)\n",
        "        val_running_loss += val_loss.item()\n",
        "\n",
        "    epoch_loss = running_loss/len(training_loader) #avg loss at each epoch \n",
        "    epoch_acc = running_corrects.float()/len(training_loader) #accuracy of epoch\n",
        "\n",
        "    running_loss_history.append(epoch_loss) #by doing this, we can observe decrease in loss at every single epoch\n",
        "    running_corrects_history.append(epoch_acc)\n",
        "\n",
        "    val_epoch_loss = val_running_loss/len(validation_loader)\n",
        "    val_epoch_acc = val_running_corrects.float()/len(validation_loader)\n",
        "\n",
        "    val_running_loss_history.append(val_epoch_loss)\n",
        "    val_running_corrects_history.append(val_epoch_acc)\n",
        "    print(\"epoch: {}\".format(e+1))\n",
        "\n",
        "    print('training loss: {:.4f}, accuracy: {:.4f}'.format(epoch_loss, epoch_acc.item())) #convert loss to float number with 4 decimal places\n",
        "    print('validation loss: {:.4f}, accuracy: {:.4f}'.format(val_epoch_loss, val_epoch_acc.item()))"
      ],
      "execution_count": 9,
      "outputs": [
        {
          "output_type": "stream",
          "text": [
            "epoch: 1\n",
            "training loss: 0.4362, accuracy: 87.2233\n",
            "validation loss: 0.2514, accuracy: 92.6600\n",
            "epoch: 2\n",
            "training loss: 0.2031, accuracy: 93.9467\n",
            "validation loss: 0.1645, accuracy: 95.1100\n",
            "epoch: 3\n",
            "training loss: 0.1501, accuracy: 95.4733\n",
            "validation loss: 0.1298, accuracy: 95.9600\n",
            "epoch: 4\n",
            "training loss: 0.1196, accuracy: 96.3033\n",
            "validation loss: 0.1187, accuracy: 96.3800\n",
            "epoch: 5\n",
            "training loss: 0.1017, accuracy: 96.8783\n",
            "validation loss: 0.0998, accuracy: 96.9700\n",
            "epoch: 6\n",
            "training loss: 0.0881, accuracy: 97.3067\n",
            "validation loss: 0.1068, accuracy: 96.6500\n",
            "epoch: 7\n",
            "training loss: 0.0793, accuracy: 97.5183\n",
            "validation loss: 0.0991, accuracy: 96.8900\n",
            "epoch: 8\n",
            "training loss: 0.0715, accuracy: 97.7750\n",
            "validation loss: 0.0940, accuracy: 96.9600\n",
            "epoch: 9\n",
            "training loss: 0.0635, accuracy: 97.9983\n",
            "validation loss: 0.0791, accuracy: 97.5900\n",
            "epoch: 10\n",
            "training loss: 0.0586, accuracy: 98.1167\n",
            "validation loss: 0.1105, accuracy: 96.7200\n",
            "epoch: 11\n",
            "training loss: 0.0529, accuracy: 98.2833\n",
            "validation loss: 0.0833, accuracy: 97.4000\n",
            "epoch: 12\n",
            "training loss: 0.0490, accuracy: 98.4017\n",
            "validation loss: 0.0869, accuracy: 97.2600\n",
            "epoch: 13\n",
            "training loss: 0.0445, accuracy: 98.5683\n",
            "validation loss: 0.0850, accuracy: 97.5800\n",
            "epoch: 14\n",
            "training loss: 0.0436, accuracy: 98.5617\n",
            "validation loss: 0.0874, accuracy: 97.3800\n",
            "epoch: 15\n",
            "training loss: 0.0391, accuracy: 98.7100\n",
            "validation loss: 0.1013, accuracy: 97.0800\n"
          ],
          "name": "stdout"
        }
      ]
    },
    {
      "cell_type": "code",
      "metadata": {
        "id": "MnsUCPth-OFA",
        "colab_type": "code",
        "colab": {
          "base_uri": "https://localhost:8080/",
          "height": 283
        },
        "outputId": "62e71857-f388-42e1-cb51-a991edceee99"
      },
      "source": [
        "plt.plot(running_loss_history, label=\"training loss\")\n",
        "plt.plot(val_running_loss_history, label=\"validation loss\")\n",
        "plt.legend()"
      ],
      "execution_count": 10,
      "outputs": [
        {
          "output_type": "execute_result",
          "data": {
            "text/plain": [
              "<matplotlib.legend.Legend at 0x7fe191c22cc0>"
            ]
          },
          "metadata": {
            "tags": []
          },
          "execution_count": 10
        },
        {
          "output_type": "display_data",
          "data": {
            "image/png": "[encoded data removed]",
            "text/plain": [
              "<Figure size 432x288 with 1 Axes>"
            ]
          },
          "metadata": {
            "tags": [],
            "needs_background": "light"
          }
        }
      ]
    },
    {
      "cell_type": "code",
      "metadata": {
        "id": "WdFf2xi0-QsW",
        "colab_type": "code",
        "colab": {
          "base_uri": "https://localhost:8080/",
          "height": 282
        },
        "outputId": "ce3c944b-14ce-4f8c-9603-75099db6afe3"
      },
      "source": [
        "plt.plot(running_corrects_history, label= \"training accuracy\")\n",
        "plt.plot(val_running_corrects_history, label= \"validation accuracy\")\n",
        "plt.legend()"
      ],
      "execution_count": 11,
      "outputs": [
        {
          "output_type": "execute_result",
          "data": {
            "text/plain": [
              "<matplotlib.legend.Legend at 0x7fe191bc6dd8>"
            ]
          },
          "metadata": {
            "tags": []
          },
          "execution_count": 11
        },
        {
          "output_type": "display_data",
          "data": {
            "image/png": "[encoded data removed]",
            "text/plain": [
              "<Figure size 432x288 with 1 Axes>"
            ]
          },
          "metadata": {
            "tags": [],
            "needs_background": "light"
          }
        }
      ]
    },
    {
      "cell_type": "markdown",
      "metadata": {
        "id": "ZzJ71Er4-UlU",
        "colab_type": "text"
      },
      "source": [
        "Till now model performed well on training data. Checking if will it do the same on validation data."
      ]
    },
    {
      "cell_type": "code",
      "metadata": {
        "id": "t2ff4imU-Stn",
        "colab_type": "code",
        "colab": {}
      },
      "source": [
        "import PIL.ImageOps"
      ],
      "execution_count": 12,
      "outputs": []
    },
    {
      "cell_type": "markdown",
      "metadata": {
        "id": "eNqIzFEj-a8U",
        "colab_type": "text"
      },
      "source": [
        "<h3>Model Testing : Image of digit '5'</h3>"
      ]
    },
    {
      "cell_type": "code",
      "metadata": {
        "id": "l_RYt3kg-ZXr",
        "colab_type": "code",
        "colab": {
          "base_uri": "https://localhost:8080/",
          "height": 286
        },
        "outputId": "eaf39dd5-b66d-4cea-9f7b-812a5136bf10"
      },
      "source": [
        "import requests\n",
        "from PIL import Image\n",
        "\n",
        "url = 'https://images.homedepot-static.com/productImages/007164ea-d47e-4f66-8d8c-fd9f621984a2/svn/architectural-mailboxes-house-letters-numbers-3585b-5-64_1000.jpg'\n",
        "response = requests.get(url, stream = True)\n",
        "img = Image.open(response.raw)\n",
        "plt.imshow(img)"
      ],
      "execution_count": 13,
      "outputs": [
        {
          "output_type": "execute_result",
          "data": {
            "text/plain": [
              "<matplotlib.image.AxesImage at 0x7fe191ace400>"
            ]
          },
          "metadata": {
            "tags": []
          },
          "execution_count": 13
        },
        {
          "output_type": "display_data",
          "data": {
            "image/png": "[encoded data removed]",
            "text/plain": [
              "<Figure size 432x288 with 1 Axes>"
            ]
          },
          "metadata": {
            "tags": [],
            "needs_background": "light"
          }
        }
      ]
    },
    {
      "cell_type": "code",
      "metadata": {
        "id": "hmlBC1Tc-e9z",
        "colab_type": "code",
        "colab": {
          "base_uri": "https://localhost:8080/",
          "height": 282
        },
        "outputId": "87c9a6fc-ce9a-4fb6-ff65-65b4c640e8d1"
      },
      "source": [
        "img = PIL.ImageOps.invert(img)\n",
        "img = img.convert('1')\n",
        "img = transform(img) \n",
        "plt.imshow(im_convert(img))"
      ],
      "execution_count": 14,
      "outputs": [
        {
          "output_type": "execute_result",
          "data": {
            "text/plain": [
              "<matplotlib.image.AxesImage at 0x7fe191aac780>"
            ]
          },
          "metadata": {
            "tags": []
          },
          "execution_count": 14
        },
        {
          "output_type": "display_data",
          "data": {
            "image/png": "[encoded data removed]",
            "text/plain": [
              "<Figure size 432x288 with 1 Axes>"
            ]
          },
          "metadata": {
            "tags": [],
            "needs_background": "light"
          }
        }
      ]
    },
    {
      "cell_type": "code",
      "metadata": {
        "id": "yGJK9wT4-g_p",
        "colab_type": "code",
        "colab": {
          "base_uri": "https://localhost:8080/",
          "height": 34
        },
        "outputId": "6086b74d-fbb7-4020-8f0a-ac396e2f8ded"
      },
      "source": [
        "img = img.view(img.shape[0], -1)\n",
        "output = model(img)\n",
        "_, pred = torch.max(output, 1)\n",
        "print(pred.item())"
      ],
      "execution_count": 15,
      "outputs": [
        {
          "output_type": "stream",
          "text": [
            "5\n"
          ],
          "name": "stdout"
        }
      ]
    },
    {
      "cell_type": "code",
      "metadata": {
        "id": "kJgwtytm-jON",
        "colab_type": "code",
        "colab": {
          "base_uri": "https://localhost:8080/",
          "height": 268
        },
        "outputId": "9fb4cfa3-39fb-4af5-f596-6c4e7af5709c"
      },
      "source": [
        "dataiter = iter(validation_loader)\n",
        "images, labels = dataiter.next()\n",
        "images_ = images.view(images.shape[0], -1)\n",
        "output = model(images_)\n",
        "_, preds = torch.max(output, 1)\n",
        "\n",
        "fig = plt.figure(figsize=(25, 4))\n",
        "\n",
        "for idx in np.arange(20):\n",
        "  ax = fig.add_subplot(2, 10, idx+1, xticks=[], yticks=[])\n",
        "  plt.imshow(im_convert(images[idx]))\n",
        "  ax.set_title(\"{} ({})\".format(str(preds[idx].item()), str(labels[idx].item())), color=(\"green\" if preds[idx]==labels[idx] else \"red\"))"
      ],
      "execution_count": 16,
      "outputs": [
        {
          "output_type": "display_data",
          "data": {
            "image/png": "[encoded data removed]",
            "text/plain": [
              "<Figure size 1800x288 with 20 Axes>"
            ]
          },
          "metadata": {
            "tags": []
          }
        }
      ]
    }
  ]
}