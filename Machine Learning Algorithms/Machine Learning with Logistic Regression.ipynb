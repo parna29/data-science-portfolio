{
 "cells": [
  {
   "cell_type": "markdown",
   "metadata": {},
   "source": [
    "# Predict Titanic Survival "
   ]
  },
  {
   "cell_type": "markdown",
   "metadata": {},
   "source": [
    "The RMS Titanic set sail on its maiden voyage in 1912, crossing the Atlantic from Southampton, England to New York City. The ship never completed the voyage, sinking to the bottom of the Atlantic Ocean after hitting an iceberg, bringing down 1,502 of 2,224 passengers onboard.\n",
    "\n",
    "In this project we will create a Logistic Regression model that predicts which passengers survived the sinking of the Titanic, based on features like age and class.\n",
    "\n",
    "The data we will be using for training our model is provided by Kaggle. (link: https://www.kaggle.com/c/titanic/data)"
   ]
  },
  {
   "cell_type": "code",
   "execution_count": 1,
   "metadata": {},
   "outputs": [
    {
     "name": "stderr",
     "output_type": "stream",
     "text": [
      "\n",
      "Bad key \"text.kerning_factor\" on line 4 in\n",
      "C:\\Users\\Parnashri\\Anaconda_3\\lib\\site-packages\\matplotlib\\mpl-data\\stylelib\\_classic_test_patch.mplstyle.\n",
      "You probably need to get an updated matplotlibrc file from\n",
      "https://github.com/matplotlib/matplotlib/blob/v3.1.3/matplotlibrc.template\n",
      "or from the matplotlib source distribution\n"
     ]
    }
   ],
   "source": [
    "import pandas as pd\n",
    "import numpy as np\n",
    "import matplotlib.pyplot as plt"
   ]
  },
  {
   "cell_type": "markdown",
   "metadata": {},
   "source": [
    "<h3>Data</h3>"
   ]
  },
  {
   "cell_type": "code",
   "execution_count": 2,
   "metadata": {},
   "outputs": [],
   "source": [
    "passengers = pd.read_csv('passengers.csv')"
   ]
  },
  {
   "cell_type": "code",
   "execution_count": 3,
   "metadata": {},
   "outputs": [
    {
     "data": {
      "text/html": [
       "<div>\n",
       "<style scoped>\n",
       "    .dataframe tbody tr th:only-of-type {\n",
       "        vertical-align: middle;\n",
       "    }\n",
       "\n",
       "    .dataframe tbody tr th {\n",
       "        vertical-align: top;\n",
       "    }\n",
       "\n",
       "    .dataframe thead th {\n",
       "        text-align: right;\n",
       "    }\n",
       "</style>\n",
       "<table border=\"1\" class=\"dataframe\">\n",
       "  <thead>\n",
       "    <tr style=\"text-align: right;\">\n",
       "      <th></th>\n",
       "      <th>PassengerId</th>\n",
       "      <th>Survived</th>\n",
       "      <th>Pclass</th>\n",
       "      <th>Name</th>\n",
       "      <th>Sex</th>\n",
       "      <th>Age</th>\n",
       "      <th>SibSp</th>\n",
       "      <th>Parch</th>\n",
       "      <th>Ticket</th>\n",
       "      <th>Fare</th>\n",
       "      <th>Cabin</th>\n",
       "      <th>Embarked</th>\n",
       "    </tr>\n",
       "  </thead>\n",
       "  <tbody>\n",
       "    <tr>\n",
       "      <th>0</th>\n",
       "      <td>1</td>\n",
       "      <td>0</td>\n",
       "      <td>3</td>\n",
       "      <td>Braund, Mr. Owen Harris</td>\n",
       "      <td>male</td>\n",
       "      <td>22.0</td>\n",
       "      <td>1</td>\n",
       "      <td>0</td>\n",
       "      <td>A/5 21171</td>\n",
       "      <td>7.2500</td>\n",
       "      <td>NaN</td>\n",
       "      <td>S</td>\n",
       "    </tr>\n",
       "    <tr>\n",
       "      <th>1</th>\n",
       "      <td>2</td>\n",
       "      <td>1</td>\n",
       "      <td>1</td>\n",
       "      <td>Cumings, Mrs. John Bradley (Florence Briggs Th...</td>\n",
       "      <td>female</td>\n",
       "      <td>38.0</td>\n",
       "      <td>1</td>\n",
       "      <td>0</td>\n",
       "      <td>PC 17599</td>\n",
       "      <td>71.2833</td>\n",
       "      <td>C85</td>\n",
       "      <td>C</td>\n",
       "    </tr>\n",
       "    <tr>\n",
       "      <th>2</th>\n",
       "      <td>3</td>\n",
       "      <td>1</td>\n",
       "      <td>3</td>\n",
       "      <td>Heikkinen, Miss. Laina</td>\n",
       "      <td>female</td>\n",
       "      <td>26.0</td>\n",
       "      <td>0</td>\n",
       "      <td>0</td>\n",
       "      <td>STON/O2. 3101282</td>\n",
       "      <td>7.9250</td>\n",
       "      <td>NaN</td>\n",
       "      <td>S</td>\n",
       "    </tr>\n",
       "    <tr>\n",
       "      <th>3</th>\n",
       "      <td>4</td>\n",
       "      <td>1</td>\n",
       "      <td>1</td>\n",
       "      <td>Futrelle, Mrs. Jacques Heath (Lily May Peel)</td>\n",
       "      <td>female</td>\n",
       "      <td>35.0</td>\n",
       "      <td>1</td>\n",
       "      <td>0</td>\n",
       "      <td>113803</td>\n",
       "      <td>53.1000</td>\n",
       "      <td>C123</td>\n",
       "      <td>S</td>\n",
       "    </tr>\n",
       "    <tr>\n",
       "      <th>4</th>\n",
       "      <td>5</td>\n",
       "      <td>0</td>\n",
       "      <td>3</td>\n",
       "      <td>Allen, Mr. William Henry</td>\n",
       "      <td>male</td>\n",
       "      <td>35.0</td>\n",
       "      <td>0</td>\n",
       "      <td>0</td>\n",
       "      <td>373450</td>\n",
       "      <td>8.0500</td>\n",
       "      <td>NaN</td>\n",
       "      <td>S</td>\n",
       "    </tr>\n",
       "  </tbody>\n",
       "</table>\n",
       "</div>"
      ],
      "text/plain": [
       "   PassengerId  Survived  Pclass  \\\n",
       "0            1         0       3   \n",
       "1            2         1       1   \n",
       "2            3         1       3   \n",
       "3            4         1       1   \n",
       "4            5         0       3   \n",
       "\n",
       "                                                Name     Sex   Age  SibSp  \\\n",
       "0                            Braund, Mr. Owen Harris    male  22.0      1   \n",
       "1  Cumings, Mrs. John Bradley (Florence Briggs Th...  female  38.0      1   \n",
       "2                             Heikkinen, Miss. Laina  female  26.0      0   \n",
       "3       Futrelle, Mrs. Jacques Heath (Lily May Peel)  female  35.0      1   \n",
       "4                           Allen, Mr. William Henry    male  35.0      0   \n",
       "\n",
       "   Parch            Ticket     Fare Cabin Embarked  \n",
       "0      0         A/5 21171   7.2500   NaN        S  \n",
       "1      0          PC 17599  71.2833   C85        C  \n",
       "2      0  STON/O2. 3101282   7.9250   NaN        S  \n",
       "3      0            113803  53.1000  C123        S  \n",
       "4      0            373450   8.0500   NaN        S  "
      ]
     },
     "execution_count": 3,
     "metadata": {},
     "output_type": "execute_result"
    }
   ],
   "source": [
    "passengers.head()"
   ]
  },
  {
   "cell_type": "markdown",
   "metadata": {},
   "source": [
    "<h3>Cleaning the Data</h3>"
   ]
  },
  {
   "cell_type": "markdown",
   "metadata": {},
   "source": [
    "Given the saying, “women and children first,” Sex and Age seem like good features to predict survival. Let’s map the text values in the Sex column to a numerical value. Updating Sex such that:\n",
    "\n",
    "'female': 1       \n",
    "\n",
    "'male': 0"
   ]
  },
  {
   "cell_type": "code",
   "execution_count": 4,
   "metadata": {},
   "outputs": [],
   "source": [
    "passengers['Sex'] = passengers.Sex.apply(lambda x: 1 if x=='female' else 0)"
   ]
  },
  {
   "cell_type": "code",
   "execution_count": 5,
   "metadata": {},
   "outputs": [
    {
     "data": {
      "text/plain": [
       "array([22.  , 38.  , 26.  , 35.  , 35.  ,   nan, 54.  ,  2.  , 27.  ,\n",
       "       14.  ,  4.  , 58.  , 20.  , 39.  , 14.  , 55.  ,  2.  ,   nan,\n",
       "       31.  ,   nan, 35.  , 34.  , 15.  , 28.  ,  8.  , 38.  ,   nan,\n",
       "       19.  ,   nan,   nan, 40.  ,   nan,   nan, 66.  , 28.  , 42.  ,\n",
       "         nan, 21.  , 18.  , 14.  , 40.  , 27.  ,   nan,  3.  , 19.  ,\n",
       "         nan,   nan,   nan,   nan, 18.  ,  7.  , 21.  , 49.  , 29.  ,\n",
       "       65.  ,   nan, 21.  , 28.5 ,  5.  , 11.  , 22.  , 38.  , 45.  ,\n",
       "        4.  ,   nan,   nan, 29.  , 19.  , 17.  , 26.  , 32.  , 16.  ,\n",
       "       21.  , 26.  , 32.  , 25.  ,   nan,   nan,  0.83, 30.  , 22.  ,\n",
       "       29.  ,   nan, 28.  , 17.  , 33.  , 16.  ,   nan, 23.  , 24.  ,\n",
       "       29.  , 20.  , 46.  , 26.  , 59.  ,   nan, 71.  , 23.  , 34.  ,\n",
       "       34.  , 28.  ,   nan, 21.  , 33.  , 37.  , 28.  , 21.  ,   nan,\n",
       "       38.  ,   nan, 47.  , 14.5 , 22.  , 20.  , 17.  , 21.  , 70.5 ,\n",
       "       29.  , 24.  ,  2.  , 21.  ,   nan, 32.5 , 32.5 , 54.  , 12.  ,\n",
       "         nan, 24.  ,   nan, 45.  , 33.  , 20.  , 47.  , 29.  , 25.  ,\n",
       "       23.  , 19.  , 37.  , 16.  , 24.  ,   nan, 22.  , 24.  , 19.  ,\n",
       "       18.  , 19.  , 27.  ,  9.  , 36.5 , 42.  , 51.  , 22.  , 55.5 ,\n",
       "       40.5 ,   nan, 51.  , 16.  , 30.  ,   nan,   nan, 44.  , 40.  ,\n",
       "       26.  , 17.  ,  1.  ,  9.  ,   nan, 45.  ,   nan, 28.  , 61.  ,\n",
       "        4.  ,  1.  , 21.  , 56.  , 18.  ,   nan, 50.  , 30.  , 36.  ,\n",
       "         nan,   nan,  9.  ,  1.  ,  4.  ,   nan,   nan, 45.  , 40.  ,\n",
       "       36.  , 32.  , 19.  , 19.  ,  3.  , 44.  , 58.  ,   nan, 42.  ,\n",
       "         nan, 24.  , 28.  ,   nan, 34.  , 45.5 , 18.  ,  2.  , 32.  ,\n",
       "       26.  , 16.  , 40.  , 24.  , 35.  , 22.  , 30.  ,   nan, 31.  ,\n",
       "       27.  , 42.  , 32.  , 30.  , 16.  , 27.  , 51.  ,   nan, 38.  ,\n",
       "       22.  , 19.  , 20.5 , 18.  ,   nan, 35.  , 29.  , 59.  ,  5.  ,\n",
       "       24.  ,   nan, 44.  ,  8.  , 19.  , 33.  ,   nan,   nan, 29.  ,\n",
       "       22.  , 30.  , 44.  , 25.  , 24.  , 37.  , 54.  ,   nan, 29.  ,\n",
       "       62.  , 30.  , 41.  , 29.  ,   nan, 30.  , 35.  , 50.  ,   nan,\n",
       "        3.  , 52.  , 40.  ,   nan, 36.  , 16.  , 25.  , 58.  , 35.  ,\n",
       "         nan, 25.  , 41.  , 37.  ,   nan, 63.  , 45.  ,   nan,  7.  ,\n",
       "       35.  , 65.  , 28.  , 16.  , 19.  ,   nan, 33.  , 30.  , 22.  ,\n",
       "       42.  , 22.  , 26.  , 19.  , 36.  , 24.  , 24.  ,   nan, 23.5 ,\n",
       "        2.  ,   nan, 50.  ,   nan,   nan, 19.  ,   nan,   nan,  0.92,\n",
       "         nan, 17.  , 30.  , 30.  , 24.  , 18.  , 26.  , 28.  , 43.  ,\n",
       "       26.  , 24.  , 54.  , 31.  , 40.  , 22.  , 27.  , 30.  , 22.  ,\n",
       "         nan, 36.  , 61.  , 36.  , 31.  , 16.  ,   nan, 45.5 , 38.  ,\n",
       "       16.  ,   nan,   nan, 29.  , 41.  , 45.  , 45.  ,  2.  , 24.  ,\n",
       "       28.  , 25.  , 36.  , 24.  , 40.  ,   nan,  3.  , 42.  , 23.  ,\n",
       "         nan, 15.  , 25.  ,   nan, 28.  , 22.  , 38.  ,   nan,   nan,\n",
       "       40.  , 29.  , 45.  , 35.  ,   nan, 30.  , 60.  ,   nan,   nan,\n",
       "       24.  , 25.  , 18.  , 19.  , 22.  ,  3.  ,   nan, 22.  , 27.  ,\n",
       "       20.  , 19.  , 42.  ,  1.  , 32.  , 35.  ,   nan, 18.  ,  1.  ,\n",
       "       36.  ,   nan, 17.  , 36.  , 21.  , 28.  , 23.  , 24.  , 22.  ,\n",
       "       31.  , 46.  , 23.  , 28.  , 39.  , 26.  , 21.  , 28.  , 20.  ,\n",
       "       34.  , 51.  ,  3.  , 21.  ,   nan,   nan,   nan, 33.  ,   nan,\n",
       "       44.  ,   nan, 34.  , 18.  , 30.  , 10.  ,   nan, 21.  , 29.  ,\n",
       "       28.  , 18.  ,   nan, 28.  , 19.  ,   nan, 32.  , 28.  ,   nan,\n",
       "       42.  , 17.  , 50.  , 14.  , 21.  , 24.  , 64.  , 31.  , 45.  ,\n",
       "       20.  , 25.  , 28.  ,   nan,  4.  , 13.  , 34.  ,  5.  , 52.  ,\n",
       "       36.  ,   nan, 30.  , 49.  ,   nan, 29.  , 65.  ,   nan, 50.  ,\n",
       "         nan, 48.  , 34.  , 47.  , 48.  ,   nan, 38.  ,   nan, 56.  ,\n",
       "         nan,  0.75,   nan, 38.  , 33.  , 23.  , 22.  ,   nan, 34.  ,\n",
       "       29.  , 22.  ,  2.  ,  9.  ,   nan, 50.  , 63.  , 25.  ,   nan,\n",
       "       35.  , 58.  , 30.  ,  9.  ,   nan, 21.  , 55.  , 71.  , 21.  ,\n",
       "         nan, 54.  ,   nan, 25.  , 24.  , 17.  , 21.  ,   nan, 37.  ,\n",
       "       16.  , 18.  , 33.  ,   nan, 28.  , 26.  , 29.  ,   nan, 36.  ,\n",
       "       54.  , 24.  , 47.  , 34.  ,   nan, 36.  , 32.  , 30.  , 22.  ,\n",
       "         nan, 44.  ,   nan, 40.5 , 50.  ,   nan, 39.  , 23.  ,  2.  ,\n",
       "         nan, 17.  ,   nan, 30.  ,  7.  , 45.  , 30.  ,   nan, 22.  ,\n",
       "       36.  ,  9.  , 11.  , 32.  , 50.  , 64.  , 19.  ,   nan, 33.  ,\n",
       "        8.  , 17.  , 27.  ,   nan, 22.  , 22.  , 62.  , 48.  ,   nan,\n",
       "       39.  , 36.  ,   nan, 40.  , 28.  ,   nan,   nan, 24.  , 19.  ,\n",
       "       29.  ,   nan, 32.  , 62.  , 53.  , 36.  ,   nan, 16.  , 19.  ,\n",
       "       34.  , 39.  ,   nan, 32.  , 25.  , 39.  , 54.  , 36.  ,   nan,\n",
       "       18.  , 47.  , 60.  , 22.  ,   nan, 35.  , 52.  , 47.  ,   nan,\n",
       "       37.  , 36.  ,   nan, 49.  ,   nan, 49.  , 24.  ,   nan,   nan,\n",
       "       44.  , 35.  , 36.  , 30.  , 27.  , 22.  , 40.  , 39.  ,   nan,\n",
       "         nan,   nan, 35.  , 24.  , 34.  , 26.  ,  4.  , 26.  , 27.  ,\n",
       "       42.  , 20.  , 21.  , 21.  , 61.  , 57.  , 21.  , 26.  ,   nan,\n",
       "       80.  , 51.  , 32.  ,   nan,  9.  , 28.  , 32.  , 31.  , 41.  ,\n",
       "         nan, 20.  , 24.  ,  2.  ,   nan,  0.75, 48.  , 19.  , 56.  ,\n",
       "         nan, 23.  ,   nan, 18.  , 21.  ,   nan, 18.  , 24.  ,   nan,\n",
       "       32.  , 23.  , 58.  , 50.  , 40.  , 47.  , 36.  , 20.  , 32.  ,\n",
       "       25.  ,   nan, 43.  ,   nan, 40.  , 31.  , 70.  , 31.  ,   nan,\n",
       "       18.  , 24.5 , 18.  , 43.  , 36.  ,   nan, 27.  , 20.  , 14.  ,\n",
       "       60.  , 25.  , 14.  , 19.  , 18.  , 15.  , 31.  ,  4.  ,   nan,\n",
       "       25.  , 60.  , 52.  , 44.  ,   nan, 49.  , 42.  , 18.  , 35.  ,\n",
       "       18.  , 25.  , 26.  , 39.  , 45.  , 42.  , 22.  ,   nan, 24.  ,\n",
       "         nan, 48.  , 29.  , 52.  , 19.  , 38.  , 27.  ,   nan, 33.  ,\n",
       "        6.  , 17.  , 34.  , 50.  , 27.  , 20.  , 30.  ,   nan, 25.  ,\n",
       "       25.  , 29.  , 11.  ,   nan, 23.  , 23.  , 28.5 , 48.  , 35.  ,\n",
       "         nan,   nan,   nan, 36.  , 21.  , 24.  , 31.  , 70.  , 16.  ,\n",
       "       30.  , 19.  , 31.  ,  4.  ,  6.  , 33.  , 23.  , 48.  ,  0.67,\n",
       "       28.  , 18.  , 34.  , 33.  ,   nan, 41.  , 20.  , 36.  , 16.  ,\n",
       "       51.  ,   nan, 30.5 ,   nan, 32.  , 24.  , 48.  , 57.  ,   nan,\n",
       "       54.  , 18.  ,   nan,  5.  ,   nan, 43.  , 13.  , 17.  , 29.  ,\n",
       "         nan, 25.  , 25.  , 18.  ,  8.  ,  1.  , 46.  ,   nan, 16.  ,\n",
       "         nan,   nan, 25.  , 39.  , 49.  , 31.  , 30.  , 30.  , 34.  ,\n",
       "       31.  , 11.  ,  0.42, 27.  , 31.  , 39.  , 18.  , 39.  , 33.  ,\n",
       "       26.  , 39.  , 35.  ,  6.  , 30.5 ,   nan, 23.  , 31.  , 43.  ,\n",
       "       10.  , 52.  , 27.  , 38.  , 27.  ,  2.  ,   nan,   nan,  1.  ,\n",
       "         nan, 62.  , 15.  ,  0.83,   nan, 23.  , 18.  , 39.  , 21.  ,\n",
       "         nan, 32.  ,   nan, 20.  , 16.  , 30.  , 34.5 , 17.  , 42.  ,\n",
       "         nan, 35.  , 28.  ,   nan,  4.  , 74.  ,  9.  , 16.  , 44.  ,\n",
       "       18.  , 45.  , 51.  , 24.  ,   nan, 41.  , 21.  , 48.  ,   nan,\n",
       "       24.  , 42.  , 27.  , 31.  ,   nan,  4.  , 26.  , 47.  , 33.  ,\n",
       "       47.  , 28.  , 15.  , 20.  , 19.  ,   nan, 56.  , 25.  , 33.  ,\n",
       "       22.  , 28.  , 25.  , 39.  , 27.  , 19.  ,   nan, 26.  , 32.  ])"
      ]
     },
     "execution_count": 5,
     "metadata": {},
     "output_type": "execute_result"
    }
   ],
   "source": [
    "passengers['Age'].values"
   ]
  },
  {
   "cell_type": "markdown",
   "metadata": {},
   "source": [
    " Filling all the empty Age values in passengers with the mean age."
   ]
  },
  {
   "cell_type": "code",
   "execution_count": 6,
   "metadata": {},
   "outputs": [],
   "source": [
    "passengers = passengers.fillna(value={'Age':passengers.Age.mean()})"
   ]
  },
  {
   "cell_type": "markdown",
   "metadata": {},
   "source": [
    "Given the strict class system onboard the Titanic, let’s utilize the Pclass column, or the passenger class, as another feature.\n",
    "\n",
    "Creating a new column named FirstClass that stores:\n",
    "\n",
    "'1': for all passengers in first class \n",
    "\n",
    "'0': for all other passengers."
   ]
  },
  {
   "cell_type": "code",
   "execution_count": 7,
   "metadata": {},
   "outputs": [],
   "source": [
    "passengers['FirstClass'] = passengers.Pclass.apply(lambda x: 1 if x==1 else 0)"
   ]
  },
  {
   "cell_type": "markdown",
   "metadata": {},
   "source": [
    "Creating a new column named SecondClass that stores:\n",
    "\n",
    "'1': for all passengers in second class\n",
    "\n",
    "'0': for all other passengers"
   ]
  },
  {
   "cell_type": "code",
   "execution_count": 8,
   "metadata": {},
   "outputs": [],
   "source": [
    "passengers['SecondClass'] = passengers.Pclass.apply(lambda x: 1 if x==2 else 0)"
   ]
  },
  {
   "cell_type": "code",
   "execution_count": 9,
   "metadata": {},
   "outputs": [
    {
     "data": {
      "text/html": [
       "<div>\n",
       "<style scoped>\n",
       "    .dataframe tbody tr th:only-of-type {\n",
       "        vertical-align: middle;\n",
       "    }\n",
       "\n",
       "    .dataframe tbody tr th {\n",
       "        vertical-align: top;\n",
       "    }\n",
       "\n",
       "    .dataframe thead th {\n",
       "        text-align: right;\n",
       "    }\n",
       "</style>\n",
       "<table border=\"1\" class=\"dataframe\">\n",
       "  <thead>\n",
       "    <tr style=\"text-align: right;\">\n",
       "      <th></th>\n",
       "      <th>PassengerId</th>\n",
       "      <th>Survived</th>\n",
       "      <th>Pclass</th>\n",
       "      <th>Name</th>\n",
       "      <th>Sex</th>\n",
       "      <th>Age</th>\n",
       "      <th>SibSp</th>\n",
       "      <th>Parch</th>\n",
       "      <th>Ticket</th>\n",
       "      <th>Fare</th>\n",
       "      <th>Cabin</th>\n",
       "      <th>Embarked</th>\n",
       "      <th>FirstClass</th>\n",
       "      <th>SecondClass</th>\n",
       "    </tr>\n",
       "  </thead>\n",
       "  <tbody>\n",
       "    <tr>\n",
       "      <th>0</th>\n",
       "      <td>1</td>\n",
       "      <td>0</td>\n",
       "      <td>3</td>\n",
       "      <td>Braund, Mr. Owen Harris</td>\n",
       "      <td>0</td>\n",
       "      <td>22.0</td>\n",
       "      <td>1</td>\n",
       "      <td>0</td>\n",
       "      <td>A/5 21171</td>\n",
       "      <td>7.2500</td>\n",
       "      <td>NaN</td>\n",
       "      <td>S</td>\n",
       "      <td>0</td>\n",
       "      <td>0</td>\n",
       "    </tr>\n",
       "    <tr>\n",
       "      <th>1</th>\n",
       "      <td>2</td>\n",
       "      <td>1</td>\n",
       "      <td>1</td>\n",
       "      <td>Cumings, Mrs. John Bradley (Florence Briggs Th...</td>\n",
       "      <td>1</td>\n",
       "      <td>38.0</td>\n",
       "      <td>1</td>\n",
       "      <td>0</td>\n",
       "      <td>PC 17599</td>\n",
       "      <td>71.2833</td>\n",
       "      <td>C85</td>\n",
       "      <td>C</td>\n",
       "      <td>1</td>\n",
       "      <td>0</td>\n",
       "    </tr>\n",
       "    <tr>\n",
       "      <th>2</th>\n",
       "      <td>3</td>\n",
       "      <td>1</td>\n",
       "      <td>3</td>\n",
       "      <td>Heikkinen, Miss. Laina</td>\n",
       "      <td>1</td>\n",
       "      <td>26.0</td>\n",
       "      <td>0</td>\n",
       "      <td>0</td>\n",
       "      <td>STON/O2. 3101282</td>\n",
       "      <td>7.9250</td>\n",
       "      <td>NaN</td>\n",
       "      <td>S</td>\n",
       "      <td>0</td>\n",
       "      <td>0</td>\n",
       "    </tr>\n",
       "    <tr>\n",
       "      <th>3</th>\n",
       "      <td>4</td>\n",
       "      <td>1</td>\n",
       "      <td>1</td>\n",
       "      <td>Futrelle, Mrs. Jacques Heath (Lily May Peel)</td>\n",
       "      <td>1</td>\n",
       "      <td>35.0</td>\n",
       "      <td>1</td>\n",
       "      <td>0</td>\n",
       "      <td>113803</td>\n",
       "      <td>53.1000</td>\n",
       "      <td>C123</td>\n",
       "      <td>S</td>\n",
       "      <td>1</td>\n",
       "      <td>0</td>\n",
       "    </tr>\n",
       "    <tr>\n",
       "      <th>4</th>\n",
       "      <td>5</td>\n",
       "      <td>0</td>\n",
       "      <td>3</td>\n",
       "      <td>Allen, Mr. William Henry</td>\n",
       "      <td>0</td>\n",
       "      <td>35.0</td>\n",
       "      <td>0</td>\n",
       "      <td>0</td>\n",
       "      <td>373450</td>\n",
       "      <td>8.0500</td>\n",
       "      <td>NaN</td>\n",
       "      <td>S</td>\n",
       "      <td>0</td>\n",
       "      <td>0</td>\n",
       "    </tr>\n",
       "  </tbody>\n",
       "</table>\n",
       "</div>"
      ],
      "text/plain": [
       "   PassengerId  Survived  Pclass  \\\n",
       "0            1         0       3   \n",
       "1            2         1       1   \n",
       "2            3         1       3   \n",
       "3            4         1       1   \n",
       "4            5         0       3   \n",
       "\n",
       "                                                Name  Sex   Age  SibSp  Parch  \\\n",
       "0                            Braund, Mr. Owen Harris    0  22.0      1      0   \n",
       "1  Cumings, Mrs. John Bradley (Florence Briggs Th...    1  38.0      1      0   \n",
       "2                             Heikkinen, Miss. Laina    1  26.0      0      0   \n",
       "3       Futrelle, Mrs. Jacques Heath (Lily May Peel)    1  35.0      1      0   \n",
       "4                           Allen, Mr. William Henry    0  35.0      0      0   \n",
       "\n",
       "             Ticket     Fare Cabin Embarked  FirstClass  SecondClass  \n",
       "0         A/5 21171   7.2500   NaN        S           0            0  \n",
       "1          PC 17599  71.2833   C85        C           1            0  \n",
       "2  STON/O2. 3101282   7.9250   NaN        S           0            0  \n",
       "3            113803  53.1000  C123        S           1            0  \n",
       "4            373450   8.0500   NaN        S           0            0  "
      ]
     },
     "execution_count": 9,
     "metadata": {},
     "output_type": "execute_result"
    }
   ],
   "source": [
    "passengers.head()"
   ]
  },
  {
   "cell_type": "markdown",
   "metadata": {},
   "source": [
    "<h3>Selecting and Splitting the Data</h3>\n",
    "\n",
    "Selecting the columns we want to build our model on."
   ]
  },
  {
   "cell_type": "code",
   "execution_count": 10,
   "metadata": {},
   "outputs": [],
   "source": [
    "features = passengers[['Sex', 'Age', 'FirstClass', 'SecondClass']]"
   ]
  },
  {
   "cell_type": "code",
   "execution_count": 11,
   "metadata": {},
   "outputs": [],
   "source": [
    "survival = passengers[['Survived']]"
   ]
  },
  {
   "cell_type": "code",
   "execution_count": 12,
   "metadata": {},
   "outputs": [],
   "source": [
    "from sklearn.model_selection import train_test_split\n",
    "\n",
    "xtrain, xtest, ytrain, ytest = train_test_split(features, survival, train_size=0.8)"
   ]
  },
  {
   "cell_type": "markdown",
   "metadata": {},
   "source": [
    "<h3>Normalizing the Data</h3>"
   ]
  },
  {
   "cell_type": "markdown",
   "metadata": {},
   "source": [
    "Since sklearn‘s Logistic Regression implementation uses Regularization, we need to scale our feature data. "
   ]
  },
  {
   "cell_type": "code",
   "execution_count": 13,
   "metadata": {},
   "outputs": [],
   "source": [
    "from sklearn.preprocessing import StandardScaler"
   ]
  },
  {
   "cell_type": "code",
   "execution_count": 14,
   "metadata": {},
   "outputs": [],
   "source": [
    "ss = StandardScaler()"
   ]
  },
  {
   "cell_type": "code",
   "execution_count": 15,
   "metadata": {},
   "outputs": [
    {
     "data": {
      "text/plain": [
       "array([[ 1.38493061, -0.4919706 , -0.54488848, -0.51007548],\n",
       "       [ 1.38493061,  0.01976827,  1.8352379 , -0.51007548],\n",
       "       [-0.72205784,  0.01976827, -0.54488848,  1.96049418],\n",
       "       [-0.72205784,  0.01976827,  1.8352379 , -0.51007548],\n",
       "       [-0.72205784,  0.01976827, -0.54488848,  1.96049418],\n",
       "       [ 1.38493061, -1.25586056, -0.54488848, -0.51007548],\n",
       "       [-0.72205784,  0.27191936, -0.54488848,  1.96049418],\n",
       "       [ 1.38493061, -0.79752658, -0.54488848, -0.51007548],\n",
       "       [-0.72205784, -0.72113759, -0.54488848, -0.51007548],\n",
       "       [-0.72205784,  0.01976827, -0.54488848, -0.51007548],\n",
       "       [-0.72205784,  2.18164425,  1.8352379 , -0.51007548],\n",
       "       [-0.72205784, -1.02669357, -0.54488848, -0.51007548],\n",
       "       [-0.72205784,  0.80664233,  1.8352379 , -0.51007548],\n",
       "       [-0.72205784, -0.79752658, -0.54488848, -0.51007548],\n",
       "       [ 1.38493061,  0.80664233, -0.54488848,  1.96049418],\n",
       "       [-0.72205784, -0.56835959, -0.54488848, -0.51007548],\n",
       "       [-0.72205784,  0.34830836, -0.54488848,  1.96049418],\n",
       "       [-0.72205784, -0.03363662, -0.54488848,  1.96049418],\n",
       "       [ 1.38493061,  1.4177543 ,  1.8352379 , -0.51007548],\n",
       "       [-0.72205784,  2.33442225, -0.54488848,  1.96049418],\n",
       "       [-0.72205784, -0.56835959, -0.54488848, -0.51007548],\n",
       "       [-0.72205784, -0.03363662, -0.54488848,  1.96049418],\n",
       "       [ 1.38493061,  0.11914137, -0.54488848, -0.51007548],\n",
       "       [-0.72205784,  0.04275237, -0.54488848,  1.96049418],\n",
       "       [-0.72205784,  0.01976827, -0.54488848, -0.51007548],\n",
       "       [ 1.38493061,  0.01976827,  1.8352379 , -0.51007548],\n",
       "       [-0.72205784,  3.86220216,  1.8352379 , -0.51007548],\n",
       "       [-0.72205784,  0.01976827, -0.54488848, -0.51007548],\n",
       "       [-0.72205784, -0.87391558, -0.54488848,  1.96049418],\n",
       "       [ 1.38493061, -0.26280361, -0.54488848, -0.51007548],\n",
       "       [-0.72205784,  0.01976827, -0.54488848, -0.51007548],\n",
       "       [-0.72205784,  1.11219831, -0.54488848, -0.51007548],\n",
       "       [-0.72205784,  0.01976827, -0.54488848, -0.51007548],\n",
       "       [-0.72205784,  0.01976827, -0.54488848, -0.51007548],\n",
       "       [ 1.38493061,  0.34830836, -0.54488848,  1.96049418],\n",
       "       [-0.72205784,  0.34830836, -0.54488848,  1.96049418],\n",
       "       [-0.72205784,  1.57053229,  1.8352379 , -0.51007548],\n",
       "       [-0.72205784, -1.94336152, -0.54488848, -0.51007548],\n",
       "       [ 1.38493061, -0.4155816 , -0.54488848,  1.96049418],\n",
       "       [ 1.38493061,  0.65386434,  1.8352379 , -0.51007548],\n",
       "       [ 1.38493061,  0.95942032,  1.8352379 , -0.51007548],\n",
       "       [ 1.38493061, -0.79752658,  1.8352379 , -0.51007548],\n",
       "       [-0.72205784,  0.04275237, -0.54488848,  1.96049418],\n",
       "       [-0.72205784, -0.56835959, -0.54488848, -0.51007548],\n",
       "       [ 1.38493061, -0.03363662, -0.54488848, -0.51007548],\n",
       "       [ 1.38493061,  0.01976827, -0.54488848, -0.51007548],\n",
       "       [-0.72205784, -0.64474859, -0.54488848,  1.96049418],\n",
       "       [ 1.38493061,  0.01976827, -0.54488848, -0.51007548],\n",
       "       [ 1.38493061,  0.50108635, -0.54488848,  1.96049418],\n",
       "       [ 1.38493061, -1.79058353, -0.54488848, -0.51007548],\n",
       "       [ 1.38493061,  0.01976827, -0.54488848, -0.51007548],\n",
       "       [ 1.38493061,  0.27191936,  1.8352379 , -0.51007548],\n",
       "       [ 1.38493061, -0.56835959,  1.8352379 , -0.51007548],\n",
       "       [ 1.38493061, -0.56835959,  1.8352379 , -0.51007548],\n",
       "       [-0.72205784,  0.01976827, -0.54488848, -0.51007548],\n",
       "       [ 1.38493061, -0.4155816 , -0.54488848, -0.51007548],\n",
       "       [-0.72205784, -0.64474859, -0.54488848, -0.51007548],\n",
       "       [ 1.38493061,  0.01976827,  1.8352379 , -0.51007548],\n",
       "       [-0.72205784, -0.03363662, -0.54488848, -0.51007548],\n",
       "       [ 1.38493061,  2.18164425,  1.8352379 , -0.51007548],\n",
       "       [-0.72205784,  0.01976827, -0.54488848, -0.51007548],\n",
       "       [-0.72205784,  0.01976827, -0.54488848, -0.51007548],\n",
       "       [-0.72205784,  1.03580932, -0.54488848, -0.51007548],\n",
       "       [-0.72205784,  2.41081124,  1.8352379 , -0.51007548],\n",
       "       [-0.72205784,  0.01976827, -0.54488848, -0.51007548],\n",
       "       [-0.72205784, -0.95030457, -0.54488848, -0.51007548],\n",
       "       [ 1.38493061,  2.48720024,  1.8352379 , -0.51007548],\n",
       "       [ 1.38493061,  1.11219831,  1.8352379 , -0.51007548],\n",
       "       [-0.72205784, -0.4155816 , -0.54488848, -0.51007548],\n",
       "       [ 1.38493061, -0.87391558,  1.8352379 , -0.51007548],\n",
       "       [-0.72205784, -0.4155816 , -0.54488848,  1.96049418],\n",
       "       [-0.72205784,  0.01976827, -0.54488848, -0.51007548],\n",
       "       [ 1.38493061,  1.79969928,  1.8352379 , -0.51007548],\n",
       "       [-0.72205784,  1.3413653 ,  1.8352379 , -0.51007548],\n",
       "       [-0.72205784, -0.33919261, -0.54488848,  1.96049418],\n",
       "       [-0.72205784,  0.73025333,  1.8352379 , -0.51007548],\n",
       "       [-0.72205784,  1.22678181, -0.54488848, -0.51007548],\n",
       "       [ 1.38493061, -1.94336152, -0.54488848, -0.51007548],\n",
       "       [-0.72205784, -0.03363662, -0.54488848, -0.51007548],\n",
       "       [-0.72205784, -0.33919261,  1.8352379 , -0.51007548],\n",
       "       [ 1.38493061,  0.80664233, -0.54488848,  1.96049418],\n",
       "       [ 1.38493061, -0.56835959,  1.8352379 , -0.51007548],\n",
       "       [ 1.38493061, -0.95030457, -0.54488848, -0.51007548],\n",
       "       [-0.72205784, -0.4919706 , -0.54488848,  1.96049418],\n",
       "       [-0.72205784, -0.4919706 , -0.54488848,  1.96049418],\n",
       "       [-0.72205784,  0.01976827, -0.54488848, -0.51007548],\n",
       "       [-0.72205784, -0.64474859, -0.54488848, -0.51007548],\n",
       "       [ 1.38493061, -0.4919706 ,  1.8352379 , -0.51007548],\n",
       "       [-0.72205784,  0.01976827, -0.54488848, -0.51007548],\n",
       "       [-0.72205784,  0.50108635,  1.8352379 , -0.51007548],\n",
       "       [-0.72205784, -0.64474859, -0.54488848,  1.96049418],\n",
       "       [-0.72205784, -0.3773871 , -0.54488848, -0.51007548],\n",
       "       [-0.72205784, -0.03363662, -0.54488848, -0.51007548],\n",
       "       [ 1.38493061, -0.33919261,  1.8352379 , -0.51007548],\n",
       "       [-0.72205784,  0.01976827, -0.54488848, -0.51007548],\n",
       "       [-0.72205784,  0.04275237, -0.54488848, -0.51007548],\n",
       "       [-0.72205784,  0.01976827, -0.54488848, -0.51007548],\n",
       "       [ 1.38493061, -0.79752658, -0.54488848, -0.51007548],\n",
       "       [ 1.38493061, -0.72113759, -0.54488848, -0.51007548],\n",
       "       [ 1.38493061,  0.01976827, -0.54488848, -0.51007548],\n",
       "       [-0.72205784, -0.4919706 , -0.54488848, -0.51007548],\n",
       "       [ 1.38493061,  0.42469735,  1.8352379 , -0.51007548],\n",
       "       [-0.72205784,  0.01976827, -0.54488848, -0.51007548],\n",
       "       [ 1.38493061, -0.95030457, -0.54488848,  1.96049418],\n",
       "       [-0.72205784,  0.42469735, -0.54488848, -0.51007548],\n",
       "       [-0.72205784, -1.94336152,  1.8352379 , -0.51007548],\n",
       "       [-0.72205784, -0.87391558, -0.54488848,  1.96049418],\n",
       "       [-0.72205784,  0.01976827, -0.54488848, -0.51007548],\n",
       "       [ 1.38493061,  2.56358923,  1.8352379 , -0.51007548],\n",
       "       [-0.72205784,  0.01976827, -0.54488848, -0.51007548],\n",
       "       [-0.72205784,  0.01976827, -0.54488848,  1.96049418],\n",
       "       [-0.72205784, -1.48502754, -0.54488848, -0.51007548],\n",
       "       [-0.72205784, -0.18641461,  1.8352379 , -0.51007548],\n",
       "       [-0.72205784,  0.01976827, -0.54488848, -0.51007548],\n",
       "       [-0.72205784,  0.04275237, -0.54488848, -0.51007548],\n",
       "       [-0.72205784,  0.65386434,  1.8352379 , -0.51007548],\n",
       "       [-0.72205784, -0.03363662, -0.54488848, -0.51007548],\n",
       "       [ 1.38493061, -0.87391558, -0.54488848, -0.51007548],\n",
       "       [ 1.38493061,  0.73025333,  1.8352379 , -0.51007548],\n",
       "       [-0.72205784,  0.95942032,  1.8352379 , -0.51007548],\n",
       "       [-0.72205784,  1.11219831,  1.8352379 , -0.51007548],\n",
       "       [-0.72205784, -0.18641461, -0.54488848,  1.96049418],\n",
       "       [ 1.38493061,  0.11914137, -0.54488848, -0.51007548],\n",
       "       [-0.72205784,  0.01976827,  1.8352379 , -0.51007548],\n",
       "       [-0.72205784,  0.27191936, -0.54488848, -0.51007548],\n",
       "       [-0.72205784,  1.3413653 , -0.54488848, -0.51007548],\n",
       "       [-0.72205784, -0.87391558, -0.54488848, -0.51007548],\n",
       "       [-0.72205784,  1.26497631,  1.8352379 , -0.51007548],\n",
       "       [ 1.38493061, -1.56141654, -0.54488848, -0.51007548],\n",
       "       [-0.72205784,  0.19553036, -0.54488848, -0.51007548],\n",
       "       [-0.72205784,  0.50108635, -0.54488848, -0.51007548],\n",
       "       [ 1.38493061, -2.09613951, -0.54488848, -0.51007548],\n",
       "       [-0.72205784, -0.11002562, -0.54488848,  1.96049418],\n",
       "       [-0.72205784,  2.63997823,  1.8352379 , -0.51007548],\n",
       "       [ 1.38493061,  0.42469735,  1.8352379 , -0.51007548],\n",
       "       [ 1.38493061,  0.01976827, -0.54488848, -0.51007548],\n",
       "       [ 1.38493061,  1.57053229, -0.54488848,  1.96049418],\n",
       "       [-0.72205784,  1.4177543 ,  1.8352379 , -0.51007548],\n",
       "       [-0.72205784,  0.19553036, -0.54488848, -0.51007548],\n",
       "       [ 1.38493061, -0.56835959, -0.54488848, -0.51007548],\n",
       "       [ 1.38493061, -0.4155816 , -0.54488848,  1.96049418],\n",
       "       [-0.72205784, -0.4155816 , -0.54488848, -0.51007548],\n",
       "       [-0.72205784, -0.11002562, -0.54488848,  1.96049418],\n",
       "       [-0.72205784, -1.02669357, -0.54488848, -0.51007548],\n",
       "       [-0.72205784,  0.50108635, -0.54488848,  1.96049418],\n",
       "       [ 1.38493061,  0.19553036, -0.54488848, -0.51007548],\n",
       "       [ 1.38493061,  1.18858731,  1.8352379 , -0.51007548],\n",
       "       [-0.72205784, -2.18551463, -0.54488848,  1.96049418],\n",
       "       [ 1.38493061,  0.34830836, -0.54488848,  1.96049418],\n",
       "       [-0.72205784,  1.87608827,  1.8352379 , -0.51007548],\n",
       "       [-0.72205784, -0.11002562, -0.54488848, -0.51007548],\n",
       "       [-0.72205784,  0.01976827, -0.54488848, -0.51007548],\n",
       "       [-0.72205784,  0.95942032,  1.8352379 , -0.51007548],\n",
       "       [ 1.38493061,  0.42469735, -0.54488848, -0.51007548],\n",
       "       [-0.72205784, -0.87391558, -0.54488848, -0.51007548],\n",
       "       [ 1.38493061,  1.87608827,  1.8352379 , -0.51007548],\n",
       "       [-0.72205784,  1.64692128,  1.8352379 , -0.51007548],\n",
       "       [ 1.38493061,  0.88303133, -0.54488848, -0.51007548],\n",
       "       [-0.72205784,  1.49414329,  1.8352379 , -0.51007548],\n",
       "       [ 1.38493061,  0.01976827,  1.8352379 , -0.51007548],\n",
       "       [-0.72205784,  0.57747534, -0.54488848, -0.51007548],\n",
       "       [-0.72205784, -0.18641461, -0.54488848, -0.51007548],\n",
       "       [ 1.38493061,  0.01976827, -0.54488848, -0.51007548],\n",
       "       [ 1.38493061,  1.72331028,  1.8352379 , -0.51007548],\n",
       "       [ 1.38493061,  0.01976827,  1.8352379 , -0.51007548],\n",
       "       [-0.72205784, -0.64474859, -0.54488848, -0.51007548],\n",
       "       [ 1.38493061, -0.4155816 ,  1.8352379 , -0.51007548],\n",
       "       [-0.72205784,  2.10525526, -0.54488848,  1.96049418],\n",
       "       [-0.72205784, -0.79752658, -0.54488848,  1.96049418],\n",
       "       [ 1.38493061,  0.11914137, -0.54488848, -0.51007548],\n",
       "       [-0.72205784,  0.01976827, -0.54488848, -0.51007548],\n",
       "       [ 1.38493061,  0.01976827, -0.54488848, -0.51007548],\n",
       "       [ 1.38493061, -0.4155816 , -0.54488848, -0.51007548],\n",
       "       [-0.72205784,  0.19553036, -0.54488848, -0.51007548],\n",
       "       [ 1.38493061,  0.42469735,  1.8352379 , -0.51007548],\n",
       "       [ 1.38493061,  0.11914137,  1.8352379 , -0.51007548],\n",
       "       [ 1.38493061, -2.09613951, -0.54488848,  1.96049418],\n",
       "       [-0.72205784, -0.33919261, -0.54488848,  1.96049418],\n",
       "       [ 1.38493061, -0.33919261, -0.54488848, -0.51007548]])"
      ]
     },
     "execution_count": 15,
     "metadata": {},
     "output_type": "execute_result"
    }
   ],
   "source": [
    "ss.fit_transform(xtrain, ytrain)\n",
    "ss.transform(xtest)"
   ]
  },
  {
   "cell_type": "markdown",
   "metadata": {},
   "source": [
    "<h3>Creating and Evaluating the Model</h3>"
   ]
  },
  {
   "cell_type": "code",
   "execution_count": 16,
   "metadata": {},
   "outputs": [],
   "source": [
    "from sklearn.linear_model import LogisticRegression"
   ]
  },
  {
   "cell_type": "code",
   "execution_count": 17,
   "metadata": {},
   "outputs": [],
   "source": [
    "lr = LogisticRegression()"
   ]
  },
  {
   "cell_type": "markdown",
   "metadata": {},
   "source": [
    "Fitting the model will perform gradient descent to find the feature coefficients that minimize the log-loss for the training data."
   ]
  },
  {
   "cell_type": "code",
   "execution_count": 18,
   "metadata": {},
   "outputs": [
    {
     "name": "stderr",
     "output_type": "stream",
     "text": [
      "C:\\Users\\Parnashri\\Anaconda_3\\lib\\site-packages\\sklearn\\utils\\validation.py:760: DataConversionWarning: A column-vector y was passed when a 1d array was expected. Please change the shape of y to (n_samples, ), for example using ravel().\n",
      "  y = column_or_1d(y, warn=True)\n"
     ]
    },
    {
     "data": {
      "text/plain": [
       "LogisticRegression(C=1.0, class_weight=None, dual=False, fit_intercept=True,\n",
       "                   intercept_scaling=1, l1_ratio=None, max_iter=100,\n",
       "                   multi_class='auto', n_jobs=None, penalty='l2',\n",
       "                   random_state=None, solver='lbfgs', tol=0.0001, verbose=0,\n",
       "                   warm_start=False)"
      ]
     },
     "execution_count": 18,
     "metadata": {},
     "output_type": "execute_result"
    }
   ],
   "source": [
    "lr.fit(xtrain, ytrain)"
   ]
  },
  {
   "cell_type": "code",
   "execution_count": 19,
   "metadata": {},
   "outputs": [
    {
     "data": {
      "text/plain": [
       "0.7949438202247191"
      ]
     },
     "execution_count": 19,
     "metadata": {},
     "output_type": "execute_result"
    }
   ],
   "source": [
    "lr.score(xtrain, ytrain)"
   ]
  },
  {
   "cell_type": "markdown",
   "metadata": {},
   "source": [
    "Scoring the model on the training data will run the data through the model and make final classifications on survival for each passenger in the training set. The score returned is the percentage of correct classifications, or the accuracy."
   ]
  },
  {
   "cell_type": "code",
   "execution_count": 20,
   "metadata": {},
   "outputs": [
    {
     "data": {
      "text/plain": [
       "0.8156424581005587"
      ]
     },
     "execution_count": 20,
     "metadata": {},
     "output_type": "execute_result"
    }
   ],
   "source": [
    "lr.score(xtest, ytest)"
   ]
  },
  {
   "cell_type": "markdown",
   "metadata": {},
   "source": [
    "Similarly, scoring the model on the testing data will run the data through the model and make final classifications on survival for each passenger in the test set."
   ]
  },
  {
   "cell_type": "code",
   "execution_count": 21,
   "metadata": {},
   "outputs": [
    {
     "data": {
      "text/plain": [
       "[('Sex', 2.3996680080732298),\n",
       " ('Age', -0.03576943142722004),\n",
       " ('FirstClass', 2.0759755332147733),\n",
       " ('SecondClass', 1.2631192047205846)]"
      ]
     },
     "execution_count": 21,
     "metadata": {},
     "output_type": "execute_result"
    }
   ],
   "source": [
    "list(zip(['Sex','Age','FirstClass','SecondClass'],lr.coef_[0]))"
   ]
  },
  {
   "cell_type": "markdown",
   "metadata": {},
   "source": [
    "<h3>Predicting with the Model</h3>"
   ]
  },
  {
   "cell_type": "markdown",
   "metadata": {},
   "source": [
    "Let’s use our model to make predictions on the survival of a few fateful passengers.\n",
    "\n",
    "We have information for 3rd class passenger Jack and 1st class passenger Rose, stored in NumPy arrays. The arrays store 4 feature values, in the following order:\n",
    "\n",
    "Sex: represented by a 0 for male and 1 for female\n",
    "\n",
    "Age: represented as an integer in years\n",
    "\n",
    "FirstClass: with a 1 indicating the passenger is in first class\n",
    "\n",
    "SecondClass: with a 1 indicating the passenger is in second class"
   ]
  },
  {
   "cell_type": "code",
   "execution_count": 22,
   "metadata": {},
   "outputs": [],
   "source": [
    "Jack = np.array([0.0,20.0,0.0,0.0])\n",
    "Rose = np.array([1.0,17.0,1.0,0.0])"
   ]
  },
  {
   "cell_type": "code",
   "execution_count": 23,
   "metadata": {},
   "outputs": [],
   "source": [
    "You = np.array([1.0,23,1.0,0.0])"
   ]
  },
  {
   "cell_type": "code",
   "execution_count": 24,
   "metadata": {},
   "outputs": [],
   "source": [
    "#Combining passenger arrays\n",
    "sample_passengers = np.array([Jack, Rose, You])"
   ]
  },
  {
   "cell_type": "markdown",
   "metadata": {},
   "source": [
    "Since our Logistic Regression model was trained on scaled feature data, we must also scale the feature data we are making predictions on."
   ]
  },
  {
   "cell_type": "code",
   "execution_count": 25,
   "metadata": {},
   "outputs": [
    {
     "data": {
      "text/plain": [
       "array([[-0.72205784, -0.72113759, -0.54488848, -0.51007548],\n",
       "       [ 1.38493061, -0.95030457,  1.8352379 , -0.51007548],\n",
       "       [ 1.38493061, -0.4919706 ,  1.8352379 , -0.51007548]])"
      ]
     },
     "execution_count": 25,
     "metadata": {},
     "output_type": "execute_result"
    }
   ],
   "source": [
    "sample_passengers = ss.transform(sample_passengers)\n",
    "sample_passengers"
   ]
  },
  {
   "cell_type": "markdown",
   "metadata": {},
   "source": [
    "Who will survive, and who will sink? \n",
    "Using our model’s .predict() method on sample_passengers to find out."
   ]
  },
  {
   "cell_type": "code",
   "execution_count": 26,
   "metadata": {},
   "outputs": [
    {
     "data": {
      "text/plain": [
       "array([[0.9907604 , 0.0092396 ],\n",
       "       [0.0048189 , 0.9951811 ],\n",
       "       [0.00489816, 0.99510184]])"
      ]
     },
     "execution_count": 26,
     "metadata": {},
     "output_type": "execute_result"
    }
   ],
   "source": [
    "lr.predict_proba(sample_passengers)"
   ]
  },
  {
   "cell_type": "markdown",
   "metadata": {},
   "source": [
    "The 1st column is the probability of a passenger perishing on the Titanic, and the 2nd column is the probability of a passenger surviving the sinking (which was calculated by our model to make the final classification decision)."
   ]
  }
 ],
 "metadata": {
  "kernelspec": {
   "display_name": "Python 3",
   "language": "python",
   "name": "python3"
  },
  "language_info": {
   "codemirror_mode": {
    "name": "ipython",
    "version": 3
   },
   "file_extension": ".py",
   "mimetype": "text/x-python",
   "name": "python",
   "nbconvert_exporter": "python",
   "pygments_lexer": "ipython3",
   "version": "3.7.4"
  }
 },
 "nbformat": 4,
 "nbformat_minor": 4
}
