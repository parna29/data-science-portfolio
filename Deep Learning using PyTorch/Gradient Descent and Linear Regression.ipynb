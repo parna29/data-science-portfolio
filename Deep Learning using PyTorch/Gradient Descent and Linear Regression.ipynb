{
 "cells": [
  {
   "cell_type": "code",
   "execution_count": 1,
   "metadata": {},
   "outputs": [],
   "source": [
    "import torch"
   ]
  },
  {
   "cell_type": "markdown",
   "metadata": {},
   "source": [
    "<h3>Gradient Descent</h3>"
   ]
  },
  {
   "cell_type": "markdown",
   "metadata": {},
   "source": [
    "Calculating partial derivative for a given function."
   ]
  },
  {
   "cell_type": "code",
   "execution_count": 2,
   "metadata": {},
   "outputs": [
    {
     "name": "stdout",
     "output_type": "stream",
     "text": [
      "tensor(2.)\n"
     ]
    }
   ],
   "source": [
    "x = torch.tensor(1.0, requires_grad=True)\n",
    "z = torch.tensor(2.0, requires_grad=True)\n",
    "y = x**2 + z**3\n",
    "y.backward()\n",
    "print(x.grad)"
   ]
  },
  {
   "cell_type": "code",
   "execution_count": 3,
   "metadata": {},
   "outputs": [
    {
     "name": "stdout",
     "output_type": "stream",
     "text": [
      "tensor(12.)\n"
     ]
    }
   ],
   "source": [
    "print(z.grad)"
   ]
  },
  {
   "cell_type": "markdown",
   "metadata": {},
   "source": [
    "<h3>Linear Regression</h3>"
   ]
  },
  {
   "cell_type": "markdown",
   "metadata": {},
   "source": [
    "Creating a dataset."
   ]
  },
  {
   "cell_type": "code",
   "execution_count": 4,
   "metadata": {},
   "outputs": [
    {
     "name": "stderr",
     "output_type": "stream",
     "text": [
      "\n",
      "Bad key \"text.kerning_factor\" on line 4 in\n",
      "C:\\Users\\Parnashri\\Anaconda_3\\lib\\site-packages\\matplotlib\\mpl-data\\stylelib\\_classic_test_patch.mplstyle.\n",
      "You probably need to get an updated matplotlibrc file from\n",
      "https://github.com/matplotlib/matplotlib/blob/v3.1.3/matplotlibrc.template\n",
      "or from the matplotlib source distribution\n"
     ]
    }
   ],
   "source": [
    "import torch.nn as nn\n",
    "from matplotlib import pyplot as plt\n",
    "import numpy as np"
   ]
  },
  {
   "cell_type": "code",
   "execution_count": 5,
   "metadata": {},
   "outputs": [],
   "source": [
    "X = torch.randn(100,1)*10"
   ]
  },
  {
   "cell_type": "code",
   "execution_count": 6,
   "metadata": {},
   "outputs": [
    {
     "data": {
      "text/plain": [
       "Text(0, 0.5, 'Y')"
      ]
     },
     "execution_count": 6,
     "metadata": {},
     "output_type": "execute_result"
    },
    {
     "data": {
      "image/png": "[encoded data removed]",
      "text/plain": [
       "<Figure size 432x288 with 1 Axes>"
      ]
     },
     "metadata": {
      "needs_background": "light"
     },
     "output_type": "display_data"
    }
   ],
   "source": [
    "Y = X + torch.randn(100,1)*3 #adding noise\n",
    "plt.plot(X.numpy(),Y.numpy(),marker='o',linestyle=' ')\n",
    "plt.xlabel('X')\n",
    "plt.ylabel('Y')"
   ]
  },
  {
   "cell_type": "code",
   "execution_count": 7,
   "metadata": {},
   "outputs": [],
   "source": [
    "class LR(nn.Module):#module acts as base class for all neural network modules. LR class is sub-class\n",
    "    \n",
    "    def __init__(self,input_size,output_size):\n",
    "        super().__init__()\n",
    "        self.linear = nn.Linear(input_size,output_size)\n",
    "    def forward(self,x):\n",
    "        pred = self.linear(x)\n",
    "        return pred"
   ]
  },
  {
   "cell_type": "code",
   "execution_count": 8,
   "metadata": {},
   "outputs": [
    {
     "name": "stdout",
     "output_type": "stream",
     "text": [
      "LR(\n",
      "  (linear): Linear(in_features=1, out_features=1, bias=True)\n",
      ")\n"
     ]
    }
   ],
   "source": [
    "torch.manual_seed(1)\n",
    "model = LR(1,1)\n",
    "print(model)"
   ]
  },
  {
   "cell_type": "code",
   "execution_count": 9,
   "metadata": {},
   "outputs": [],
   "source": [
    "[w,b]=model.parameters()\n",
    "\n",
    "def get_params():\n",
    "    return (w[0][0].item(), b[0].item())\n",
    "def plot_fit(title):\n",
    "    plt.title=title\n",
    "    w1,b1=get_params()\n",
    "    x1=np.array([-30,30])\n",
    "    y1=x1*w1+b1\n",
    "    plt.plot(x1,y1,'r')\n",
    "    plt.scatter(X,Y)\n",
    "    plt.show()"
   ]
  },
  {
   "cell_type": "code",
   "execution_count": 10,
   "metadata": {},
   "outputs": [
    {
     "data": {
      "image/png": "[encoded data removed]",
      "text/plain": [
       "<Figure size 432x288 with 1 Axes>"
      ]
     },
     "metadata": {
      "needs_background": "light"
     },
     "output_type": "display_data"
    }
   ],
   "source": [
    "plot_fit('Initial Model')"
   ]
  },
  {
   "cell_type": "code",
   "execution_count": 11,
   "metadata": {},
   "outputs": [],
   "source": [
    "criterion = nn.MSELoss()\n",
    "optimizer = torch.optim.SGD(model.parameters(),lr=0.01)"
   ]
  },
  {
   "cell_type": "code",
   "execution_count": 12,
   "metadata": {},
   "outputs": [
    {
     "name": "stdout",
     "output_type": "stream",
     "text": [
      "epoch: 0 loss: 35.60785675048828\n",
      "epoch: 1 loss: 32.887088775634766\n",
      "epoch: 2 loss: 30.459095001220703\n",
      "epoch: 3 loss: 28.292306900024414\n",
      "epoch: 4 loss: 26.35852813720703\n",
      "epoch: 5 loss: 24.632665634155273\n",
      "epoch: 6 loss: 23.092317581176758\n",
      "epoch: 7 loss: 21.71746063232422\n",
      "epoch: 8 loss: 20.490270614624023\n",
      "epoch: 9 loss: 19.39482307434082\n",
      "epoch: 10 loss: 18.41693687438965\n",
      "epoch: 11 loss: 17.54393768310547\n",
      "epoch: 12 loss: 16.7645320892334\n",
      "epoch: 13 loss: 16.068634033203125\n",
      "epoch: 14 loss: 15.447256088256836\n",
      "epoch: 15 loss: 14.89238166809082\n",
      "epoch: 16 loss: 14.396844863891602\n",
      "epoch: 17 loss: 13.954267501831055\n",
      "epoch: 18 loss: 13.558952331542969\n",
      "epoch: 19 loss: 13.205816268920898\n",
      "epoch: 20 loss: 12.890321731567383\n",
      "epoch: 21 loss: 12.60842514038086\n",
      "epoch: 22 loss: 12.356518745422363\n",
      "epoch: 23 loss: 12.131379127502441\n",
      "epoch: 24 loss: 11.930137634277344\n",
      "epoch: 25 loss: 11.750226974487305\n",
      "epoch: 26 loss: 11.589360237121582\n",
      "epoch: 27 loss: 11.445494651794434\n",
      "epoch: 28 loss: 11.316810607910156\n",
      "epoch: 29 loss: 11.20168399810791\n",
      "epoch: 30 loss: 11.098660469055176\n",
      "epoch: 31 loss: 11.006450653076172\n",
      "epoch: 32 loss: 10.923896789550781\n",
      "epoch: 33 loss: 10.849967002868652\n",
      "epoch: 34 loss: 10.783743858337402\n",
      "epoch: 35 loss: 10.724405288696289\n",
      "epoch: 36 loss: 10.671217918395996\n",
      "epoch: 37 loss: 10.623528480529785\n",
      "epoch: 38 loss: 10.580751419067383\n",
      "epoch: 39 loss: 10.542366027832031\n",
      "epoch: 40 loss: 10.507908821105957\n",
      "epoch: 41 loss: 10.476961135864258\n",
      "epoch: 42 loss: 10.449155807495117\n",
      "epoch: 43 loss: 10.424158096313477\n",
      "epoch: 44 loss: 10.4016752243042\n",
      "epoch: 45 loss: 10.381442070007324\n",
      "epoch: 46 loss: 10.363222122192383\n",
      "epoch: 47 loss: 10.34680461883545\n",
      "epoch: 48 loss: 10.332002639770508\n",
      "epoch: 49 loss: 10.318646430969238\n",
      "epoch: 50 loss: 10.306586265563965\n",
      "epoch: 51 loss: 10.295689582824707\n",
      "epoch: 52 loss: 10.285834312438965\n",
      "epoch: 53 loss: 10.2769136428833\n",
      "epoch: 54 loss: 10.268832206726074\n",
      "epoch: 55 loss: 10.261504173278809\n",
      "epoch: 56 loss: 10.254853248596191\n",
      "epoch: 57 loss: 10.248809814453125\n",
      "epoch: 58 loss: 10.24331283569336\n",
      "epoch: 59 loss: 10.23830795288086\n",
      "epoch: 60 loss: 10.233746528625488\n",
      "epoch: 61 loss: 10.229582786560059\n",
      "epoch: 62 loss: 10.22577953338623\n",
      "epoch: 63 loss: 10.222299575805664\n",
      "epoch: 64 loss: 10.219112396240234\n",
      "epoch: 65 loss: 10.216190338134766\n",
      "epoch: 66 loss: 10.213506698608398\n",
      "epoch: 67 loss: 10.211038589477539\n",
      "epoch: 68 loss: 10.20876693725586\n",
      "epoch: 69 loss: 10.206672668457031\n",
      "epoch: 70 loss: 10.20473861694336\n",
      "epoch: 71 loss: 10.202950477600098\n",
      "epoch: 72 loss: 10.201295852661133\n",
      "epoch: 73 loss: 10.199762344360352\n",
      "epoch: 74 loss: 10.198336601257324\n",
      "epoch: 75 loss: 10.197012901306152\n",
      "epoch: 76 loss: 10.195780754089355\n",
      "epoch: 77 loss: 10.194631576538086\n",
      "epoch: 78 loss: 10.193560600280762\n",
      "epoch: 79 loss: 10.192558288574219\n",
      "epoch: 80 loss: 10.191620826721191\n",
      "epoch: 81 loss: 10.190742492675781\n",
      "epoch: 82 loss: 10.189918518066406\n",
      "epoch: 83 loss: 10.1891450881958\n",
      "epoch: 84 loss: 10.1884183883667\n",
      "epoch: 85 loss: 10.18773365020752\n",
      "epoch: 86 loss: 10.187088012695312\n",
      "epoch: 87 loss: 10.186479568481445\n",
      "epoch: 88 loss: 10.185905456542969\n",
      "epoch: 89 loss: 10.185362815856934\n",
      "epoch: 90 loss: 10.18484878540039\n",
      "epoch: 91 loss: 10.184362411499023\n",
      "epoch: 92 loss: 10.1839017868042\n",
      "epoch: 93 loss: 10.183465003967285\n",
      "epoch: 94 loss: 10.183050155639648\n",
      "epoch: 95 loss: 10.182656288146973\n",
      "epoch: 96 loss: 10.182281494140625\n",
      "epoch: 97 loss: 10.181925773620605\n",
      "epoch: 98 loss: 10.181587219238281\n",
      "epoch: 99 loss: 10.18126392364502\n"
     ]
    }
   ],
   "source": [
    "epochs=100\n",
    "losses=[]\n",
    "for i in range(epochs):\n",
    "    y_pred=model.forward(X)\n",
    "    loss=criterion(y_pred,Y) #y-actual output\n",
    "    print('epoch:',i, \"loss:\", loss.item())\n",
    "    \n",
    "    losses.append(loss) #to visualize the loss foe every epoch\n",
    "    optimizer.zero_grad() #set gradient=0 as it will get accumulated after each step\n",
    "    loss.backward() #to minimize loss\n",
    "    optimizer.step() #used to update model parameters, called once the gradients are computed"
   ]
  },
  {
   "cell_type": "code",
   "execution_count": 13,
   "metadata": {},
   "outputs": [
    {
     "data": {
      "text/plain": [
       "Text(0.5, 0, 'epochs')"
      ]
     },
     "execution_count": 13,
     "metadata": {},
     "output_type": "execute_result"
    },
    {
     "data": {
      "image/png": "[encoded data removed]",
      "text/plain": [
       "<Figure size 432x288 with 1 Axes>"
      ]
     },
     "metadata": {
      "needs_background": "light"
     },
     "output_type": "display_data"
    }
   ],
   "source": [
    "plt.plot(range(epochs), losses)\n",
    "plt.ylabel('Loss')\n",
    "plt.xlabel('epochs')"
   ]
  },
  {
   "cell_type": "markdown",
   "metadata": {},
   "source": [
    "Model is not officially trained using gradient descent algorithm. It is seen that loss is exponentially decreasing. To visualize how our model fits the dataset, let us plot new linear model."
   ]
  },
  {
   "cell_type": "code",
   "execution_count": 15,
   "metadata": {},
   "outputs": [
    {
     "data": {
      "image/png": "[encoded data removed]",
      "text/plain": [
       "<Figure size 432x288 with 1 Axes>"
      ]
     },
     "metadata": {
      "needs_background": "light"
     },
     "output_type": "display_data"
    }
   ],
   "source": [
    "plot_fit('Trained Model')"
   ]
  },
  {
   "cell_type": "markdown",
   "metadata": {},
   "source": [
    "We see that the model has fit the data pretty well."
   ]
  }
 ],
 "metadata": {
  "kernelspec": {
   "display_name": "Python 3",
   "language": "python",
   "name": "python3"
  },
  "language_info": {
   "codemirror_mode": {
    "name": "ipython",
    "version": 3
   },
   "file_extension": ".py",
   "mimetype": "text/x-python",
   "name": "python",
   "nbconvert_exporter": "python",
   "pygments_lexer": "ipython3",
   "version": "3.7.4"
  }
 },
 "nbformat": 4,
 "nbformat_minor": 4
}
